{
  "nbformat": 4,
  "nbformat_minor": 0,
  "metadata": {
    "colab": {
      "provenance": [],
      "mount_file_id": "1-CoKHPBGrGKgtCsMWHtVN-T9vFNvk4dB",
      "authorship_tag": "ABX9TyNkmFlwjEY9xDVts8iqt6fm",
      "include_colab_link": true
    },
    "kernelspec": {
      "name": "python3",
      "display_name": "Python 3"
    },
    "language_info": {
      "name": "python"
    }
  },
  "cells": [
    {
      "cell_type": "markdown",
      "metadata": {
        "id": "view-in-github",
        "colab_type": "text"
      },
      "source": [
        "<a href=\"https://colab.research.google.com/github/aiwithroy/Topic-Modeling-using-NLTK-Gensim/blob/master/Topic_Modeling_using_NLTK_Gensim.ipynb\" target=\"_parent\"><img src=\"https://colab.research.google.com/assets/colab-badge.svg\" alt=\"Open In Colab\"/></a>"
      ]
    },
    {
      "cell_type": "markdown",
      "source": [
        "\n",
        "# **Topic Modeling on News Articles using NLTK Gensim**"
      ],
      "metadata": {
        "id": "blGotFJ2Wy2Z"
      }
    },
    {
      "cell_type": "markdown",
      "source": [
        "# Loading Necessary Libraries"
      ],
      "metadata": {
        "id": "zfN_B7rAKhGK"
      }
    },
    {
      "cell_type": "code",
      "source": [
        "import pandas as pd\n",
        "import nltk\n",
        "from nltk.corpus import stopwords\n",
        "from nltk.stem import WordNetLemmatizer\n",
        "from string import punctuation\n",
        "from nltk.tokenize import word_tokenize\n",
        "from collections import Counter\n",
        "import operator\n",
        "import numpy as np\n",
        "from textblob import TextBlob\n",
        "import warnings\n",
        "warnings.filterwarnings('ignore')  # Let's not pay heed to them right now"
      ],
      "metadata": {
        "id": "YYQAFJvrO-py"
      },
      "execution_count": 1,
      "outputs": []
    },
    {
      "cell_type": "code",
      "source": [
        "pip install pyLDAvis"
      ],
      "metadata": {
        "colab": {
          "base_uri": "https://localhost:8080/"
        },
        "id": "_w5urwtwH7ry",
        "outputId": "a37a350a-53fc-4321-d090-2b7bd15f91fc"
      },
      "execution_count": 2,
      "outputs": [
        {
          "output_type": "stream",
          "name": "stdout",
          "text": [
            "Collecting pyLDAvis\n",
            "  Downloading pyLDAvis-3.4.1-py3-none-any.whl (2.6 MB)\n",
            "\u001b[2K     \u001b[90m━━━━━━━━━━━━━━━━━━━━━━━━━━━━━━━━━━━━━━━━\u001b[0m \u001b[32m2.6/2.6 MB\u001b[0m \u001b[31m29.2 MB/s\u001b[0m eta \u001b[36m0:00:00\u001b[0m\n",
            "\u001b[?25hCollecting numpy>=1.24.2 (from pyLDAvis)\n",
            "  Downloading numpy-1.26.0-cp310-cp310-manylinux_2_17_x86_64.manylinux2014_x86_64.whl (18.2 MB)\n",
            "\u001b[2K     \u001b[90m━━━━━━━━━━━━━━━━━━━━━━━━━━━━━━━━━━━━━━━\u001b[0m \u001b[32m18.2/18.2 MB\u001b[0m \u001b[31m100.9 MB/s\u001b[0m eta \u001b[36m0:00:00\u001b[0m\n",
            "\u001b[?25hRequirement already satisfied: scipy in /usr/local/lib/python3.10/dist-packages (from pyLDAvis) (1.11.3)\n",
            "Collecting pandas>=2.0.0 (from pyLDAvis)\n",
            "  Downloading pandas-2.1.1-cp310-cp310-manylinux_2_17_x86_64.manylinux2014_x86_64.whl (12.3 MB)\n",
            "\u001b[2K     \u001b[90m━━━━━━━━━━━━━━━━━━━━━━━━━━━━━━━━━━━━━━━\u001b[0m \u001b[32m12.3/12.3 MB\u001b[0m \u001b[31m122.7 MB/s\u001b[0m eta \u001b[36m0:00:00\u001b[0m\n",
            "\u001b[?25hRequirement already satisfied: joblib>=1.2.0 in /usr/local/lib/python3.10/dist-packages (from pyLDAvis) (1.3.2)\n",
            "Requirement already satisfied: jinja2 in /usr/local/lib/python3.10/dist-packages (from pyLDAvis) (3.1.2)\n",
            "Requirement already satisfied: numexpr in /usr/local/lib/python3.10/dist-packages (from pyLDAvis) (2.8.7)\n",
            "Collecting funcy (from pyLDAvis)\n",
            "  Downloading funcy-2.0-py2.py3-none-any.whl (30 kB)\n",
            "Requirement already satisfied: scikit-learn>=1.0.0 in /usr/local/lib/python3.10/dist-packages (from pyLDAvis) (1.2.2)\n",
            "Requirement already satisfied: gensim in /usr/local/lib/python3.10/dist-packages (from pyLDAvis) (4.3.2)\n",
            "Requirement already satisfied: setuptools in /usr/local/lib/python3.10/dist-packages (from pyLDAvis) (67.7.2)\n",
            "Requirement already satisfied: python-dateutil>=2.8.2 in /usr/local/lib/python3.10/dist-packages (from pandas>=2.0.0->pyLDAvis) (2.8.2)\n",
            "Requirement already satisfied: pytz>=2020.1 in /usr/local/lib/python3.10/dist-packages (from pandas>=2.0.0->pyLDAvis) (2023.3.post1)\n",
            "Collecting tzdata>=2022.1 (from pandas>=2.0.0->pyLDAvis)\n",
            "  Downloading tzdata-2023.3-py2.py3-none-any.whl (341 kB)\n",
            "\u001b[2K     \u001b[90m━━━━━━━━━━━━━━━━━━━━━━━━━━━━━━━━━━━━━━\u001b[0m \u001b[32m341.8/341.8 kB\u001b[0m \u001b[31m31.6 MB/s\u001b[0m eta \u001b[36m0:00:00\u001b[0m\n",
            "\u001b[?25hRequirement already satisfied: threadpoolctl>=2.0.0 in /usr/local/lib/python3.10/dist-packages (from scikit-learn>=1.0.0->pyLDAvis) (3.2.0)\n",
            "Requirement already satisfied: smart-open>=1.8.1 in /usr/local/lib/python3.10/dist-packages (from gensim->pyLDAvis) (6.4.0)\n",
            "Requirement already satisfied: MarkupSafe>=2.0 in /usr/local/lib/python3.10/dist-packages (from jinja2->pyLDAvis) (2.1.3)\n",
            "Requirement already satisfied: six>=1.5 in /usr/local/lib/python3.10/dist-packages (from python-dateutil>=2.8.2->pandas>=2.0.0->pyLDAvis) (1.16.0)\n",
            "Installing collected packages: funcy, tzdata, numpy, pandas, pyLDAvis\n",
            "  Attempting uninstall: numpy\n",
            "    Found existing installation: numpy 1.23.5\n",
            "    Uninstalling numpy-1.23.5:\n",
            "      Successfully uninstalled numpy-1.23.5\n",
            "  Attempting uninstall: pandas\n",
            "    Found existing installation: pandas 1.5.3\n",
            "    Uninstalling pandas-1.5.3:\n",
            "      Successfully uninstalled pandas-1.5.3\n",
            "\u001b[31mERROR: pip's dependency resolver does not currently take into account all the packages that are installed. This behaviour is the source of the following dependency conflicts.\n",
            "google-colab 1.0.0 requires pandas==1.5.3, but you have pandas 2.1.1 which is incompatible.\n",
            "numba 0.56.4 requires numpy<1.24,>=1.18, but you have numpy 1.26.0 which is incompatible.\n",
            "tensorflow 2.13.0 requires numpy<=1.24.3,>=1.22, but you have numpy 1.26.0 which is incompatible.\u001b[0m\u001b[31m\n",
            "\u001b[0mSuccessfully installed funcy-2.0 numpy-1.26.0 pandas-2.1.1 pyLDAvis-3.4.1 tzdata-2023.3\n"
          ]
        }
      ]
    },
    {
      "cell_type": "code",
      "source": [
        "pip install pandas==1.5.3"
      ],
      "metadata": {
        "colab": {
          "base_uri": "https://localhost:8080/",
          "height": 404
        },
        "id": "vTAeSLs4VXE-",
        "outputId": "dcd3e82a-0132-4154-9ec1-35cbe438a705"
      },
      "execution_count": 3,
      "outputs": [
        {
          "output_type": "stream",
          "name": "stdout",
          "text": [
            "Collecting pandas==1.5.3\n",
            "  Downloading pandas-1.5.3-cp310-cp310-manylinux_2_17_x86_64.manylinux2014_x86_64.whl (12.1 MB)\n",
            "\u001b[2K     \u001b[90m━━━━━━━━━━━━━━━━━━━━━━━━━━━━━━━━━━━━━━━━\u001b[0m \u001b[32m12.1/12.1 MB\u001b[0m \u001b[31m53.3 MB/s\u001b[0m eta \u001b[36m0:00:00\u001b[0m\n",
            "\u001b[?25hRequirement already satisfied: python-dateutil>=2.8.1 in /usr/local/lib/python3.10/dist-packages (from pandas==1.5.3) (2.8.2)\n",
            "Requirement already satisfied: pytz>=2020.1 in /usr/local/lib/python3.10/dist-packages (from pandas==1.5.3) (2023.3.post1)\n",
            "Requirement already satisfied: numpy>=1.21.0 in /usr/local/lib/python3.10/dist-packages (from pandas==1.5.3) (1.26.0)\n",
            "Requirement already satisfied: six>=1.5 in /usr/local/lib/python3.10/dist-packages (from python-dateutil>=2.8.1->pandas==1.5.3) (1.16.0)\n",
            "Installing collected packages: pandas\n",
            "  Attempting uninstall: pandas\n",
            "    Found existing installation: pandas 2.1.1\n",
            "    Uninstalling pandas-2.1.1:\n",
            "      Successfully uninstalled pandas-2.1.1\n",
            "\u001b[31mERROR: pip's dependency resolver does not currently take into account all the packages that are installed. This behaviour is the source of the following dependency conflicts.\n",
            "pyldavis 3.4.1 requires pandas>=2.0.0, but you have pandas 1.5.3 which is incompatible.\u001b[0m\u001b[31m\n",
            "\u001b[0mSuccessfully installed pandas-1.5.3\n"
          ]
        },
        {
          "output_type": "display_data",
          "data": {
            "application/vnd.colab-display-data+json": {
              "pip_warning": {
                "packages": [
                  "pandas"
                ]
              }
            }
          },
          "metadata": {}
        }
      ]
    },
    {
      "cell_type": "markdown",
      "source": [
        "# Loading Data"
      ],
      "metadata": {
        "id": "TQqsPUnIKyvm"
      }
    },
    {
      "cell_type": "code",
      "source": [
        "from sklearn.datasets import fetch_20newsgroups\n",
        "# Dictionary with 'data' as key and each review as an element of list\n",
        "dataset = fetch_20newsgroups(shuffle=True, random_state=1, remove=('headers', 'footers', 'quotes'))"
      ],
      "metadata": {
        "id": "sbpym7GwOzqq"
      },
      "execution_count": 4,
      "outputs": []
    },
    {
      "cell_type": "code",
      "source": [
        "# list of articles\n",
        "documents = dataset.data"
      ],
      "metadata": {
        "id": "2ydAw2sBO9z8"
      },
      "execution_count": 5,
      "outputs": []
    },
    {
      "cell_type": "code",
      "source": [
        "# Dataframe with a column `document` containing all the articles\n",
        "news_df = pd.DataFrame({'document':documents})"
      ],
      "metadata": {
        "id": "ZhdT5WazPBET"
      },
      "execution_count": 6,
      "outputs": []
    },
    {
      "cell_type": "code",
      "source": [
        "print(news_df.head())"
      ],
      "metadata": {
        "colab": {
          "base_uri": "https://localhost:8080/"
        },
        "id": "TlQ6_9elPDKo",
        "outputId": "04b57e43-fe1b-4bfc-adcc-6fe24fc566ff"
      },
      "execution_count": 7,
      "outputs": [
        {
          "output_type": "stream",
          "name": "stdout",
          "text": [
            "                                            document\n",
            "0  Well i'm not sure about the story nad it did s...\n",
            "1  \\n\\n\\n\\n\\n\\n\\nYeah, do you expect people to re...\n",
            "2  Although I realize that principle is not one o...\n",
            "3  Notwithstanding all the legitimate fuss about ...\n",
            "4  Well, I will have to change the scoring on my ...\n"
          ]
        }
      ]
    },
    {
      "cell_type": "markdown",
      "source": [
        "# Data Cleaning"
      ],
      "metadata": {
        "id": "2BtASbQ6XIxp"
      }
    },
    {
      "cell_type": "code",
      "source": [
        "news_df = news_df[:100]\n",
        "tokenized_doc = news_df['document'].str.replace(\"[^a-zA-Z#]\", \" \")\n",
        "news_df.shape"
      ],
      "metadata": {
        "colab": {
          "base_uri": "https://localhost:8080/"
        },
        "id": "tO6BWM8JPJtf",
        "outputId": "f2ad8a56-0e5d-4ae0-a509-6e2517c958aa"
      },
      "execution_count": 8,
      "outputs": [
        {
          "output_type": "execute_result",
          "data": {
            "text/plain": [
              "(100, 1)"
            ]
          },
          "metadata": {},
          "execution_count": 8
        }
      ]
    },
    {
      "cell_type": "code",
      "source": [
        "def clean_doc(text):\n",
        "    #for token in text:\n",
        "    text =  ' '.join([w.lower() for w in text.split() if len(w)>3])\n",
        "    return text;\n",
        "\n",
        "tokenized_doc = tokenized_doc.apply(clean_doc)\n",
        "tokenized_doc"
      ],
      "metadata": {
        "colab": {
          "base_uri": "https://localhost:8080/"
        },
        "id": "p4Du-1UcPTG1",
        "outputId": "288f4555-d213-49e0-ab87-2febe3a2c532"
      },
      "execution_count": 9,
      "outputs": [
        {
          "output_type": "execute_result",
          "data": {
            "text/plain": [
              "0     well sure about story seem biased what disagre...\n",
              "1     yeah expect people read actually accept hard a...\n",
              "2     although realize that principle your strongest...\n",
              "3     notwithstanding legitimate fuss about this pro...\n",
              "4     well will have change scoring playoff pool unf...\n",
              "                            ...                        \n",
              "95    follow mark last posting current investigation...\n",
              "96    could folk song clementine memory serves part ...\n",
              "97    first chip doesn that runs megabits second whi...\n",
              "98    created image gaea therefore must pinnacle cre...\n",
              "99    sale pontiac grand prix white white rims gray ...\n",
              "Name: document, Length: 100, dtype: object"
            ]
          },
          "metadata": {},
          "execution_count": 9
        }
      ]
    },
    {
      "cell_type": "markdown",
      "source": [
        "# Handling the Stop-words"
      ],
      "metadata": {
        "id": "Eviv9SOdXop5"
      }
    },
    {
      "cell_type": "code",
      "source": [
        "nltk.download('all')"
      ],
      "metadata": {
        "colab": {
          "base_uri": "https://localhost:8080/"
        },
        "id": "1XQ4vP3_RNKn",
        "outputId": "974ddd3f-5715-4a77-f503-92e624e120c2"
      },
      "execution_count": 10,
      "outputs": [
        {
          "output_type": "stream",
          "name": "stderr",
          "text": [
            "[nltk_data] Downloading collection 'all'\n",
            "[nltk_data]    | \n",
            "[nltk_data]    | Downloading package abc to /root/nltk_data...\n",
            "[nltk_data]    |   Unzipping corpora/abc.zip.\n",
            "[nltk_data]    | Downloading package alpino to /root/nltk_data...\n",
            "[nltk_data]    |   Unzipping corpora/alpino.zip.\n",
            "[nltk_data]    | Downloading package averaged_perceptron_tagger to\n",
            "[nltk_data]    |     /root/nltk_data...\n",
            "[nltk_data]    |   Unzipping taggers/averaged_perceptron_tagger.zip.\n",
            "[nltk_data]    | Downloading package averaged_perceptron_tagger_ru to\n",
            "[nltk_data]    |     /root/nltk_data...\n",
            "[nltk_data]    |   Unzipping\n",
            "[nltk_data]    |       taggers/averaged_perceptron_tagger_ru.zip.\n",
            "[nltk_data]    | Downloading package basque_grammars to\n",
            "[nltk_data]    |     /root/nltk_data...\n",
            "[nltk_data]    |   Unzipping grammars/basque_grammars.zip.\n",
            "[nltk_data]    | Downloading package bcp47 to /root/nltk_data...\n",
            "[nltk_data]    | Downloading package biocreative_ppi to\n",
            "[nltk_data]    |     /root/nltk_data...\n",
            "[nltk_data]    |   Unzipping corpora/biocreative_ppi.zip.\n",
            "[nltk_data]    | Downloading package bllip_wsj_no_aux to\n",
            "[nltk_data]    |     /root/nltk_data...\n",
            "[nltk_data]    |   Unzipping models/bllip_wsj_no_aux.zip.\n",
            "[nltk_data]    | Downloading package book_grammars to\n",
            "[nltk_data]    |     /root/nltk_data...\n",
            "[nltk_data]    |   Unzipping grammars/book_grammars.zip.\n",
            "[nltk_data]    | Downloading package brown to /root/nltk_data...\n",
            "[nltk_data]    |   Unzipping corpora/brown.zip.\n",
            "[nltk_data]    | Downloading package brown_tei to /root/nltk_data...\n",
            "[nltk_data]    |   Unzipping corpora/brown_tei.zip.\n",
            "[nltk_data]    | Downloading package cess_cat to /root/nltk_data...\n",
            "[nltk_data]    |   Unzipping corpora/cess_cat.zip.\n",
            "[nltk_data]    | Downloading package cess_esp to /root/nltk_data...\n",
            "[nltk_data]    |   Unzipping corpora/cess_esp.zip.\n",
            "[nltk_data]    | Downloading package chat80 to /root/nltk_data...\n",
            "[nltk_data]    |   Unzipping corpora/chat80.zip.\n",
            "[nltk_data]    | Downloading package city_database to\n",
            "[nltk_data]    |     /root/nltk_data...\n",
            "[nltk_data]    |   Unzipping corpora/city_database.zip.\n",
            "[nltk_data]    | Downloading package cmudict to /root/nltk_data...\n",
            "[nltk_data]    |   Unzipping corpora/cmudict.zip.\n",
            "[nltk_data]    | Downloading package comparative_sentences to\n",
            "[nltk_data]    |     /root/nltk_data...\n",
            "[nltk_data]    |   Unzipping corpora/comparative_sentences.zip.\n",
            "[nltk_data]    | Downloading package comtrans to /root/nltk_data...\n",
            "[nltk_data]    | Downloading package conll2000 to /root/nltk_data...\n",
            "[nltk_data]    |   Unzipping corpora/conll2000.zip.\n",
            "[nltk_data]    | Downloading package conll2002 to /root/nltk_data...\n",
            "[nltk_data]    |   Unzipping corpora/conll2002.zip.\n",
            "[nltk_data]    | Downloading package conll2007 to /root/nltk_data...\n",
            "[nltk_data]    | Downloading package crubadan to /root/nltk_data...\n",
            "[nltk_data]    |   Unzipping corpora/crubadan.zip.\n",
            "[nltk_data]    | Downloading package dependency_treebank to\n",
            "[nltk_data]    |     /root/nltk_data...\n",
            "[nltk_data]    |   Unzipping corpora/dependency_treebank.zip.\n",
            "[nltk_data]    | Downloading package dolch to /root/nltk_data...\n",
            "[nltk_data]    |   Unzipping corpora/dolch.zip.\n",
            "[nltk_data]    | Downloading package europarl_raw to\n",
            "[nltk_data]    |     /root/nltk_data...\n",
            "[nltk_data]    |   Unzipping corpora/europarl_raw.zip.\n",
            "[nltk_data]    | Downloading package extended_omw to\n",
            "[nltk_data]    |     /root/nltk_data...\n",
            "[nltk_data]    | Downloading package floresta to /root/nltk_data...\n",
            "[nltk_data]    |   Unzipping corpora/floresta.zip.\n",
            "[nltk_data]    | Downloading package framenet_v15 to\n",
            "[nltk_data]    |     /root/nltk_data...\n",
            "[nltk_data]    |   Unzipping corpora/framenet_v15.zip.\n",
            "[nltk_data]    | Downloading package framenet_v17 to\n",
            "[nltk_data]    |     /root/nltk_data...\n",
            "[nltk_data]    |   Unzipping corpora/framenet_v17.zip.\n",
            "[nltk_data]    | Downloading package gazetteers to /root/nltk_data...\n",
            "[nltk_data]    |   Unzipping corpora/gazetteers.zip.\n",
            "[nltk_data]    | Downloading package genesis to /root/nltk_data...\n",
            "[nltk_data]    |   Unzipping corpora/genesis.zip.\n",
            "[nltk_data]    | Downloading package gutenberg to /root/nltk_data...\n",
            "[nltk_data]    |   Unzipping corpora/gutenberg.zip.\n",
            "[nltk_data]    | Downloading package ieer to /root/nltk_data...\n",
            "[nltk_data]    |   Unzipping corpora/ieer.zip.\n",
            "[nltk_data]    | Downloading package inaugural to /root/nltk_data...\n",
            "[nltk_data]    |   Unzipping corpora/inaugural.zip.\n",
            "[nltk_data]    | Downloading package indian to /root/nltk_data...\n",
            "[nltk_data]    |   Unzipping corpora/indian.zip.\n",
            "[nltk_data]    | Downloading package jeita to /root/nltk_data...\n",
            "[nltk_data]    | Downloading package kimmo to /root/nltk_data...\n",
            "[nltk_data]    |   Unzipping corpora/kimmo.zip.\n",
            "[nltk_data]    | Downloading package knbc to /root/nltk_data...\n",
            "[nltk_data]    | Downloading package large_grammars to\n",
            "[nltk_data]    |     /root/nltk_data...\n",
            "[nltk_data]    |   Unzipping grammars/large_grammars.zip.\n",
            "[nltk_data]    | Downloading package lin_thesaurus to\n",
            "[nltk_data]    |     /root/nltk_data...\n",
            "[nltk_data]    |   Unzipping corpora/lin_thesaurus.zip.\n",
            "[nltk_data]    | Downloading package mac_morpho to /root/nltk_data...\n",
            "[nltk_data]    |   Unzipping corpora/mac_morpho.zip.\n",
            "[nltk_data]    | Downloading package machado to /root/nltk_data...\n",
            "[nltk_data]    | Downloading package masc_tagged to /root/nltk_data...\n",
            "[nltk_data]    | Downloading package maxent_ne_chunker to\n",
            "[nltk_data]    |     /root/nltk_data...\n",
            "[nltk_data]    |   Unzipping chunkers/maxent_ne_chunker.zip.\n",
            "[nltk_data]    | Downloading package maxent_treebank_pos_tagger to\n",
            "[nltk_data]    |     /root/nltk_data...\n",
            "[nltk_data]    |   Unzipping taggers/maxent_treebank_pos_tagger.zip.\n",
            "[nltk_data]    | Downloading package moses_sample to\n",
            "[nltk_data]    |     /root/nltk_data...\n",
            "[nltk_data]    |   Unzipping models/moses_sample.zip.\n",
            "[nltk_data]    | Downloading package movie_reviews to\n",
            "[nltk_data]    |     /root/nltk_data...\n",
            "[nltk_data]    |   Unzipping corpora/movie_reviews.zip.\n",
            "[nltk_data]    | Downloading package mte_teip5 to /root/nltk_data...\n",
            "[nltk_data]    |   Unzipping corpora/mte_teip5.zip.\n",
            "[nltk_data]    | Downloading package mwa_ppdb to /root/nltk_data...\n",
            "[nltk_data]    |   Unzipping misc/mwa_ppdb.zip.\n",
            "[nltk_data]    | Downloading package names to /root/nltk_data...\n",
            "[nltk_data]    |   Unzipping corpora/names.zip.\n",
            "[nltk_data]    | Downloading package nombank.1.0 to /root/nltk_data...\n",
            "[nltk_data]    | Downloading package nonbreaking_prefixes to\n",
            "[nltk_data]    |     /root/nltk_data...\n",
            "[nltk_data]    |   Unzipping corpora/nonbreaking_prefixes.zip.\n",
            "[nltk_data]    | Downloading package nps_chat to /root/nltk_data...\n",
            "[nltk_data]    |   Unzipping corpora/nps_chat.zip.\n",
            "[nltk_data]    | Downloading package omw to /root/nltk_data...\n",
            "[nltk_data]    | Downloading package omw-1.4 to /root/nltk_data...\n",
            "[nltk_data]    | Downloading package opinion_lexicon to\n",
            "[nltk_data]    |     /root/nltk_data...\n",
            "[nltk_data]    |   Unzipping corpora/opinion_lexicon.zip.\n",
            "[nltk_data]    | Downloading package panlex_swadesh to\n",
            "[nltk_data]    |     /root/nltk_data...\n",
            "[nltk_data]    | Downloading package paradigms to /root/nltk_data...\n",
            "[nltk_data]    |   Unzipping corpora/paradigms.zip.\n",
            "[nltk_data]    | Downloading package pe08 to /root/nltk_data...\n",
            "[nltk_data]    |   Unzipping corpora/pe08.zip.\n",
            "[nltk_data]    | Downloading package perluniprops to\n",
            "[nltk_data]    |     /root/nltk_data...\n",
            "[nltk_data]    |   Unzipping misc/perluniprops.zip.\n",
            "[nltk_data]    | Downloading package pil to /root/nltk_data...\n",
            "[nltk_data]    |   Unzipping corpora/pil.zip.\n",
            "[nltk_data]    | Downloading package pl196x to /root/nltk_data...\n",
            "[nltk_data]    |   Unzipping corpora/pl196x.zip.\n",
            "[nltk_data]    | Downloading package porter_test to /root/nltk_data...\n",
            "[nltk_data]    |   Unzipping stemmers/porter_test.zip.\n",
            "[nltk_data]    | Downloading package ppattach to /root/nltk_data...\n",
            "[nltk_data]    |   Unzipping corpora/ppattach.zip.\n",
            "[nltk_data]    | Downloading package problem_reports to\n",
            "[nltk_data]    |     /root/nltk_data...\n",
            "[nltk_data]    |   Unzipping corpora/problem_reports.zip.\n",
            "[nltk_data]    | Downloading package product_reviews_1 to\n",
            "[nltk_data]    |     /root/nltk_data...\n",
            "[nltk_data]    |   Unzipping corpora/product_reviews_1.zip.\n",
            "[nltk_data]    | Downloading package product_reviews_2 to\n",
            "[nltk_data]    |     /root/nltk_data...\n",
            "[nltk_data]    |   Unzipping corpora/product_reviews_2.zip.\n",
            "[nltk_data]    | Downloading package propbank to /root/nltk_data...\n",
            "[nltk_data]    | Downloading package pros_cons to /root/nltk_data...\n",
            "[nltk_data]    |   Unzipping corpora/pros_cons.zip.\n",
            "[nltk_data]    | Downloading package ptb to /root/nltk_data...\n",
            "[nltk_data]    |   Unzipping corpora/ptb.zip.\n",
            "[nltk_data]    | Downloading package punkt to /root/nltk_data...\n",
            "[nltk_data]    |   Unzipping tokenizers/punkt.zip.\n",
            "[nltk_data]    | Downloading package qc to /root/nltk_data...\n",
            "[nltk_data]    |   Unzipping corpora/qc.zip.\n",
            "[nltk_data]    | Downloading package reuters to /root/nltk_data...\n",
            "[nltk_data]    | Downloading package rslp to /root/nltk_data...\n",
            "[nltk_data]    |   Unzipping stemmers/rslp.zip.\n",
            "[nltk_data]    | Downloading package rte to /root/nltk_data...\n",
            "[nltk_data]    |   Unzipping corpora/rte.zip.\n",
            "[nltk_data]    | Downloading package sample_grammars to\n",
            "[nltk_data]    |     /root/nltk_data...\n",
            "[nltk_data]    |   Unzipping grammars/sample_grammars.zip.\n",
            "[nltk_data]    | Downloading package semcor to /root/nltk_data...\n",
            "[nltk_data]    | Downloading package senseval to /root/nltk_data...\n",
            "[nltk_data]    |   Unzipping corpora/senseval.zip.\n",
            "[nltk_data]    | Downloading package sentence_polarity to\n",
            "[nltk_data]    |     /root/nltk_data...\n",
            "[nltk_data]    |   Unzipping corpora/sentence_polarity.zip.\n",
            "[nltk_data]    | Downloading package sentiwordnet to\n",
            "[nltk_data]    |     /root/nltk_data...\n",
            "[nltk_data]    |   Unzipping corpora/sentiwordnet.zip.\n",
            "[nltk_data]    | Downloading package shakespeare to /root/nltk_data...\n",
            "[nltk_data]    |   Unzipping corpora/shakespeare.zip.\n",
            "[nltk_data]    | Downloading package sinica_treebank to\n",
            "[nltk_data]    |     /root/nltk_data...\n",
            "[nltk_data]    |   Unzipping corpora/sinica_treebank.zip.\n",
            "[nltk_data]    | Downloading package smultron to /root/nltk_data...\n",
            "[nltk_data]    |   Unzipping corpora/smultron.zip.\n",
            "[nltk_data]    | Downloading package snowball_data to\n",
            "[nltk_data]    |     /root/nltk_data...\n",
            "[nltk_data]    | Downloading package spanish_grammars to\n",
            "[nltk_data]    |     /root/nltk_data...\n",
            "[nltk_data]    |   Unzipping grammars/spanish_grammars.zip.\n",
            "[nltk_data]    | Downloading package state_union to /root/nltk_data...\n",
            "[nltk_data]    |   Unzipping corpora/state_union.zip.\n",
            "[nltk_data]    | Downloading package stopwords to /root/nltk_data...\n",
            "[nltk_data]    |   Unzipping corpora/stopwords.zip.\n",
            "[nltk_data]    | Downloading package subjectivity to\n",
            "[nltk_data]    |     /root/nltk_data...\n",
            "[nltk_data]    |   Unzipping corpora/subjectivity.zip.\n",
            "[nltk_data]    | Downloading package swadesh to /root/nltk_data...\n",
            "[nltk_data]    |   Unzipping corpora/swadesh.zip.\n",
            "[nltk_data]    | Downloading package switchboard to /root/nltk_data...\n",
            "[nltk_data]    |   Unzipping corpora/switchboard.zip.\n",
            "[nltk_data]    | Downloading package tagsets to /root/nltk_data...\n",
            "[nltk_data]    |   Unzipping help/tagsets.zip.\n",
            "[nltk_data]    | Downloading package timit to /root/nltk_data...\n",
            "[nltk_data]    |   Unzipping corpora/timit.zip.\n",
            "[nltk_data]    | Downloading package toolbox to /root/nltk_data...\n",
            "[nltk_data]    |   Unzipping corpora/toolbox.zip.\n",
            "[nltk_data]    | Downloading package treebank to /root/nltk_data...\n",
            "[nltk_data]    |   Unzipping corpora/treebank.zip.\n",
            "[nltk_data]    | Downloading package twitter_samples to\n",
            "[nltk_data]    |     /root/nltk_data...\n",
            "[nltk_data]    |   Unzipping corpora/twitter_samples.zip.\n",
            "[nltk_data]    | Downloading package udhr to /root/nltk_data...\n",
            "[nltk_data]    |   Unzipping corpora/udhr.zip.\n",
            "[nltk_data]    | Downloading package udhr2 to /root/nltk_data...\n",
            "[nltk_data]    |   Unzipping corpora/udhr2.zip.\n",
            "[nltk_data]    | Downloading package unicode_samples to\n",
            "[nltk_data]    |     /root/nltk_data...\n",
            "[nltk_data]    |   Unzipping corpora/unicode_samples.zip.\n",
            "[nltk_data]    | Downloading package universal_tagset to\n",
            "[nltk_data]    |     /root/nltk_data...\n",
            "[nltk_data]    |   Unzipping taggers/universal_tagset.zip.\n",
            "[nltk_data]    | Downloading package universal_treebanks_v20 to\n",
            "[nltk_data]    |     /root/nltk_data...\n",
            "[nltk_data]    | Downloading package vader_lexicon to\n",
            "[nltk_data]    |     /root/nltk_data...\n",
            "[nltk_data]    | Downloading package verbnet to /root/nltk_data...\n",
            "[nltk_data]    |   Unzipping corpora/verbnet.zip.\n",
            "[nltk_data]    | Downloading package verbnet3 to /root/nltk_data...\n",
            "[nltk_data]    |   Unzipping corpora/verbnet3.zip.\n",
            "[nltk_data]    | Downloading package webtext to /root/nltk_data...\n",
            "[nltk_data]    |   Unzipping corpora/webtext.zip.\n",
            "[nltk_data]    | Downloading package wmt15_eval to /root/nltk_data...\n",
            "[nltk_data]    |   Unzipping models/wmt15_eval.zip.\n",
            "[nltk_data]    | Downloading package word2vec_sample to\n",
            "[nltk_data]    |     /root/nltk_data...\n",
            "[nltk_data]    |   Unzipping models/word2vec_sample.zip.\n",
            "[nltk_data]    | Downloading package wordnet to /root/nltk_data...\n",
            "[nltk_data]    | Downloading package wordnet2021 to /root/nltk_data...\n",
            "[nltk_data]    | Downloading package wordnet2022 to /root/nltk_data...\n",
            "[nltk_data]    |   Unzipping corpora/wordnet2022.zip.\n",
            "[nltk_data]    | Downloading package wordnet31 to /root/nltk_data...\n",
            "[nltk_data]    | Downloading package wordnet_ic to /root/nltk_data...\n",
            "[nltk_data]    |   Unzipping corpora/wordnet_ic.zip.\n",
            "[nltk_data]    | Downloading package words to /root/nltk_data...\n",
            "[nltk_data]    |   Unzipping corpora/words.zip.\n",
            "[nltk_data]    | Downloading package ycoe to /root/nltk_data...\n",
            "[nltk_data]    |   Unzipping corpora/ycoe.zip.\n",
            "[nltk_data]    | \n",
            "[nltk_data]  Done downloading collection all\n"
          ]
        },
        {
          "output_type": "execute_result",
          "data": {
            "text/plain": [
              "True"
            ]
          },
          "metadata": {},
          "execution_count": 10
        }
      ]
    },
    {
      "cell_type": "code",
      "source": [
        "stopwords_set = set(stopwords.words('english'))\n",
        "custom = list(stopwords_set)+list(punctuation)\n",
        "\n",
        "def stopWordRemoval(text):\n",
        "    text = word_tokenize(text)\n",
        "    text = ' '.join([word for word in text if word not in custom])\n",
        "    return text\n",
        "\n",
        "tokenized_doc = tokenized_doc.apply(stopWordRemoval)\n",
        "tokenized_doc"
      ],
      "metadata": {
        "colab": {
          "base_uri": "https://localhost:8080/"
        },
        "id": "KCMzJ0P-PVRe",
        "outputId": "20efefdb-0439-4b2d-bc0d-2d4dab982a27"
      },
      "execution_count": 11,
      "outputs": [
        {
          "output_type": "execute_result",
          "data": {
            "text/plain": [
              "0     well sure story seem biased disagree statement...\n",
              "1     yeah expect people read actually accept hard a...\n",
              "2     although realize principle strongest points wo...\n",
              "3     notwithstanding legitimate fuss proposal much ...\n",
              "4     well change scoring playoff pool unfortunately...\n",
              "                            ...                        \n",
              "95    follow mark last posting current investigation...\n",
              "96    could folk song clementine memory serves part ...\n",
              "97    first chip runs megabits second beyond need vo...\n",
              "98    created image gaea therefore must pinnacle cre...\n",
              "99    sale pontiac grand prix white white rims gray ...\n",
              "Name: document, Length: 100, dtype: object"
            ]
          },
          "metadata": {},
          "execution_count": 11
        }
      ]
    },
    {
      "cell_type": "markdown",
      "source": [
        "# Lemmatization"
      ],
      "metadata": {
        "id": "BrSUb9ZlXkPF"
      }
    },
    {
      "cell_type": "code",
      "source": [
        "# Initializing wordnet lemmatizer\n",
        "lemmatizer = WordNetLemmatizer()\n",
        "\n",
        "def lemData(text):\n",
        "    text = word_tokenize(text)\n",
        "    newText = []\n",
        "    for word in text:\n",
        "        newText.append(lemmatizer.lemmatize(word))\n",
        "    return ' '.join(newText)\n",
        "\n",
        "tokenized_doc = tokenized_doc.apply(lemData)\n",
        "tokenized_doc"
      ],
      "metadata": {
        "colab": {
          "base_uri": "https://localhost:8080/"
        },
        "id": "mVZw6RU7QwNn",
        "outputId": "1f637460-8834-4355-bd0d-673a3ba6d53e"
      },
      "execution_count": 12,
      "outputs": [
        {
          "output_type": "execute_result",
          "data": {
            "text/plain": [
              "0     well sure story seem biased disagree statement...\n",
              "1     yeah expect people read actually accept hard a...\n",
              "2     although realize principle strongest point wou...\n",
              "3     notwithstanding legitimate fuss proposal much ...\n",
              "4     well change scoring playoff pool unfortunately...\n",
              "                            ...                        \n",
              "95    follow mark last posting current investigation...\n",
              "96    could folk song clementine memory serf part go...\n",
              "97    first chip run megabit second beyond need voic...\n",
              "98    created image gaea therefore must pinnacle cre...\n",
              "99    sale pontiac grand prix white white rim gray i...\n",
              "Name: document, Length: 100, dtype: object"
            ]
          },
          "metadata": {},
          "execution_count": 12
        }
      ]
    },
    {
      "cell_type": "markdown",
      "source": [
        "\n",
        "# TF-IDF Vectorization"
      ],
      "metadata": {
        "id": "bOBGya_IX3P4"
      }
    },
    {
      "cell_type": "code",
      "source": [
        "from sklearn.feature_extraction.text import TfidfVectorizer\n",
        "\n",
        "# Initialising the tfidf vectorizer with the default stopword list\n",
        "tfidf = TfidfVectorizer(stop_words=\"english\", max_features= 1000, max_df = 0.5, smooth_idf=True)\n",
        "\n",
        "#Vectorizing 'X' column\n",
        "vector =tfidf.fit_transform(tokenized_doc)\n",
        "\n",
        "#Converting vector into an array\n",
        "X= vector.toarray()\n",
        "pd.DataFrame(X)"
      ],
      "metadata": {
        "colab": {
          "base_uri": "https://localhost:8080/",
          "height": 444
        },
        "id": "n554uNZbQ442",
        "outputId": "e7b4fa6b-aa58-4b9c-9c24-33475c5558fe"
      },
      "execution_count": 13,
      "outputs": [
        {
          "output_type": "execute_result",
          "data": {
            "text/plain": [
              "    0    1    2         3    4    5    6         7    8    9    ...  990  991  \\\n",
              "0   0.0  0.0  0.0  0.000000  0.0  0.0  0.0  0.000000  0.0  0.0  ...  0.0  0.0   \n",
              "1   0.0  0.0  0.0  0.196228  0.0  0.0  0.0  0.167434  0.0  0.0  ...  0.0  0.0   \n",
              "2   0.0  0.0  0.0  0.000000  0.0  0.0  0.0  0.000000  0.0  0.0  ...  0.0  0.0   \n",
              "3   0.0  0.0  0.0  0.000000  0.0  0.0  0.0  0.000000  0.0  0.0  ...  0.0  0.0   \n",
              "4   0.0  0.0  0.0  0.000000  0.0  0.0  0.0  0.000000  0.0  0.0  ...  0.0  0.0   \n",
              "..  ...  ...  ...       ...  ...  ...  ...       ...  ...  ...  ...  ...  ...   \n",
              "95  0.0  0.0  0.0  0.000000  0.0  0.0  0.0  0.000000  0.0  0.0  ...  0.0  0.0   \n",
              "96  0.0  0.0  0.0  0.000000  0.0  0.0  0.0  0.000000  0.0  0.0  ...  0.0  0.0   \n",
              "97  0.0  0.0  0.0  0.000000  0.0  0.0  0.0  0.000000  0.0  0.0  ...  0.0  0.0   \n",
              "98  0.0  0.0  0.0  0.000000  0.0  0.0  0.0  0.000000  0.0  0.0  ...  0.0  0.0   \n",
              "99  0.0  0.0  0.0  0.000000  0.0  0.0  0.0  0.000000  0.0  0.0  ...  0.0  0.0   \n",
              "\n",
              "    992  993  994       995      996  997  998  999  \n",
              "0   0.0  0.0  0.0  0.000000  0.00000  0.0  0.0  0.0  \n",
              "1   0.0  0.0  0.0  0.000000  0.00000  0.0  0.0  0.0  \n",
              "2   0.0  0.0  0.0  0.000000  0.00000  0.0  0.0  0.0  \n",
              "3   0.0  0.0  0.0  0.126337  0.00000  0.0  0.0  0.0  \n",
              "4   0.0  0.0  0.0  0.000000  0.00000  0.0  0.0  0.0  \n",
              "..  ...  ...  ...       ...      ...  ...  ...  ...  \n",
              "95  0.0  0.0  0.0  0.000000  0.17339  0.0  0.0  0.0  \n",
              "96  0.0  0.0  0.0  0.000000  0.00000  0.0  0.0  0.0  \n",
              "97  0.0  0.0  0.0  0.122917  0.00000  0.0  0.0  0.0  \n",
              "98  0.0  0.0  0.0  0.000000  0.00000  0.0  0.0  0.0  \n",
              "99  0.0  0.0  0.0  0.000000  0.00000  0.0  0.0  0.0  \n",
              "\n",
              "[100 rows x 1000 columns]"
            ],
            "text/html": [
              "\n",
              "  <div id=\"df-5b560d48-dbaa-492c-8810-8af1000b5843\" class=\"colab-df-container\">\n",
              "    <div>\n",
              "<style scoped>\n",
              "    .dataframe tbody tr th:only-of-type {\n",
              "        vertical-align: middle;\n",
              "    }\n",
              "\n",
              "    .dataframe tbody tr th {\n",
              "        vertical-align: top;\n",
              "    }\n",
              "\n",
              "    .dataframe thead th {\n",
              "        text-align: right;\n",
              "    }\n",
              "</style>\n",
              "<table border=\"1\" class=\"dataframe\">\n",
              "  <thead>\n",
              "    <tr style=\"text-align: right;\">\n",
              "      <th></th>\n",
              "      <th>0</th>\n",
              "      <th>1</th>\n",
              "      <th>2</th>\n",
              "      <th>3</th>\n",
              "      <th>4</th>\n",
              "      <th>5</th>\n",
              "      <th>6</th>\n",
              "      <th>7</th>\n",
              "      <th>8</th>\n",
              "      <th>9</th>\n",
              "      <th>...</th>\n",
              "      <th>990</th>\n",
              "      <th>991</th>\n",
              "      <th>992</th>\n",
              "      <th>993</th>\n",
              "      <th>994</th>\n",
              "      <th>995</th>\n",
              "      <th>996</th>\n",
              "      <th>997</th>\n",
              "      <th>998</th>\n",
              "      <th>999</th>\n",
              "    </tr>\n",
              "  </thead>\n",
              "  <tbody>\n",
              "    <tr>\n",
              "      <th>0</th>\n",
              "      <td>0.0</td>\n",
              "      <td>0.0</td>\n",
              "      <td>0.0</td>\n",
              "      <td>0.000000</td>\n",
              "      <td>0.0</td>\n",
              "      <td>0.0</td>\n",
              "      <td>0.0</td>\n",
              "      <td>0.000000</td>\n",
              "      <td>0.0</td>\n",
              "      <td>0.0</td>\n",
              "      <td>...</td>\n",
              "      <td>0.0</td>\n",
              "      <td>0.0</td>\n",
              "      <td>0.0</td>\n",
              "      <td>0.0</td>\n",
              "      <td>0.0</td>\n",
              "      <td>0.000000</td>\n",
              "      <td>0.00000</td>\n",
              "      <td>0.0</td>\n",
              "      <td>0.0</td>\n",
              "      <td>0.0</td>\n",
              "    </tr>\n",
              "    <tr>\n",
              "      <th>1</th>\n",
              "      <td>0.0</td>\n",
              "      <td>0.0</td>\n",
              "      <td>0.0</td>\n",
              "      <td>0.196228</td>\n",
              "      <td>0.0</td>\n",
              "      <td>0.0</td>\n",
              "      <td>0.0</td>\n",
              "      <td>0.167434</td>\n",
              "      <td>0.0</td>\n",
              "      <td>0.0</td>\n",
              "      <td>...</td>\n",
              "      <td>0.0</td>\n",
              "      <td>0.0</td>\n",
              "      <td>0.0</td>\n",
              "      <td>0.0</td>\n",
              "      <td>0.0</td>\n",
              "      <td>0.000000</td>\n",
              "      <td>0.00000</td>\n",
              "      <td>0.0</td>\n",
              "      <td>0.0</td>\n",
              "      <td>0.0</td>\n",
              "    </tr>\n",
              "    <tr>\n",
              "      <th>2</th>\n",
              "      <td>0.0</td>\n",
              "      <td>0.0</td>\n",
              "      <td>0.0</td>\n",
              "      <td>0.000000</td>\n",
              "      <td>0.0</td>\n",
              "      <td>0.0</td>\n",
              "      <td>0.0</td>\n",
              "      <td>0.000000</td>\n",
              "      <td>0.0</td>\n",
              "      <td>0.0</td>\n",
              "      <td>...</td>\n",
              "      <td>0.0</td>\n",
              "      <td>0.0</td>\n",
              "      <td>0.0</td>\n",
              "      <td>0.0</td>\n",
              "      <td>0.0</td>\n",
              "      <td>0.000000</td>\n",
              "      <td>0.00000</td>\n",
              "      <td>0.0</td>\n",
              "      <td>0.0</td>\n",
              "      <td>0.0</td>\n",
              "    </tr>\n",
              "    <tr>\n",
              "      <th>3</th>\n",
              "      <td>0.0</td>\n",
              "      <td>0.0</td>\n",
              "      <td>0.0</td>\n",
              "      <td>0.000000</td>\n",
              "      <td>0.0</td>\n",
              "      <td>0.0</td>\n",
              "      <td>0.0</td>\n",
              "      <td>0.000000</td>\n",
              "      <td>0.0</td>\n",
              "      <td>0.0</td>\n",
              "      <td>...</td>\n",
              "      <td>0.0</td>\n",
              "      <td>0.0</td>\n",
              "      <td>0.0</td>\n",
              "      <td>0.0</td>\n",
              "      <td>0.0</td>\n",
              "      <td>0.126337</td>\n",
              "      <td>0.00000</td>\n",
              "      <td>0.0</td>\n",
              "      <td>0.0</td>\n",
              "      <td>0.0</td>\n",
              "    </tr>\n",
              "    <tr>\n",
              "      <th>4</th>\n",
              "      <td>0.0</td>\n",
              "      <td>0.0</td>\n",
              "      <td>0.0</td>\n",
              "      <td>0.000000</td>\n",
              "      <td>0.0</td>\n",
              "      <td>0.0</td>\n",
              "      <td>0.0</td>\n",
              "      <td>0.000000</td>\n",
              "      <td>0.0</td>\n",
              "      <td>0.0</td>\n",
              "      <td>...</td>\n",
              "      <td>0.0</td>\n",
              "      <td>0.0</td>\n",
              "      <td>0.0</td>\n",
              "      <td>0.0</td>\n",
              "      <td>0.0</td>\n",
              "      <td>0.000000</td>\n",
              "      <td>0.00000</td>\n",
              "      <td>0.0</td>\n",
              "      <td>0.0</td>\n",
              "      <td>0.0</td>\n",
              "    </tr>\n",
              "    <tr>\n",
              "      <th>...</th>\n",
              "      <td>...</td>\n",
              "      <td>...</td>\n",
              "      <td>...</td>\n",
              "      <td>...</td>\n",
              "      <td>...</td>\n",
              "      <td>...</td>\n",
              "      <td>...</td>\n",
              "      <td>...</td>\n",
              "      <td>...</td>\n",
              "      <td>...</td>\n",
              "      <td>...</td>\n",
              "      <td>...</td>\n",
              "      <td>...</td>\n",
              "      <td>...</td>\n",
              "      <td>...</td>\n",
              "      <td>...</td>\n",
              "      <td>...</td>\n",
              "      <td>...</td>\n",
              "      <td>...</td>\n",
              "      <td>...</td>\n",
              "      <td>...</td>\n",
              "    </tr>\n",
              "    <tr>\n",
              "      <th>95</th>\n",
              "      <td>0.0</td>\n",
              "      <td>0.0</td>\n",
              "      <td>0.0</td>\n",
              "      <td>0.000000</td>\n",
              "      <td>0.0</td>\n",
              "      <td>0.0</td>\n",
              "      <td>0.0</td>\n",
              "      <td>0.000000</td>\n",
              "      <td>0.0</td>\n",
              "      <td>0.0</td>\n",
              "      <td>...</td>\n",
              "      <td>0.0</td>\n",
              "      <td>0.0</td>\n",
              "      <td>0.0</td>\n",
              "      <td>0.0</td>\n",
              "      <td>0.0</td>\n",
              "      <td>0.000000</td>\n",
              "      <td>0.17339</td>\n",
              "      <td>0.0</td>\n",
              "      <td>0.0</td>\n",
              "      <td>0.0</td>\n",
              "    </tr>\n",
              "    <tr>\n",
              "      <th>96</th>\n",
              "      <td>0.0</td>\n",
              "      <td>0.0</td>\n",
              "      <td>0.0</td>\n",
              "      <td>0.000000</td>\n",
              "      <td>0.0</td>\n",
              "      <td>0.0</td>\n",
              "      <td>0.0</td>\n",
              "      <td>0.000000</td>\n",
              "      <td>0.0</td>\n",
              "      <td>0.0</td>\n",
              "      <td>...</td>\n",
              "      <td>0.0</td>\n",
              "      <td>0.0</td>\n",
              "      <td>0.0</td>\n",
              "      <td>0.0</td>\n",
              "      <td>0.0</td>\n",
              "      <td>0.000000</td>\n",
              "      <td>0.00000</td>\n",
              "      <td>0.0</td>\n",
              "      <td>0.0</td>\n",
              "      <td>0.0</td>\n",
              "    </tr>\n",
              "    <tr>\n",
              "      <th>97</th>\n",
              "      <td>0.0</td>\n",
              "      <td>0.0</td>\n",
              "      <td>0.0</td>\n",
              "      <td>0.000000</td>\n",
              "      <td>0.0</td>\n",
              "      <td>0.0</td>\n",
              "      <td>0.0</td>\n",
              "      <td>0.000000</td>\n",
              "      <td>0.0</td>\n",
              "      <td>0.0</td>\n",
              "      <td>...</td>\n",
              "      <td>0.0</td>\n",
              "      <td>0.0</td>\n",
              "      <td>0.0</td>\n",
              "      <td>0.0</td>\n",
              "      <td>0.0</td>\n",
              "      <td>0.122917</td>\n",
              "      <td>0.00000</td>\n",
              "      <td>0.0</td>\n",
              "      <td>0.0</td>\n",
              "      <td>0.0</td>\n",
              "    </tr>\n",
              "    <tr>\n",
              "      <th>98</th>\n",
              "      <td>0.0</td>\n",
              "      <td>0.0</td>\n",
              "      <td>0.0</td>\n",
              "      <td>0.000000</td>\n",
              "      <td>0.0</td>\n",
              "      <td>0.0</td>\n",
              "      <td>0.0</td>\n",
              "      <td>0.000000</td>\n",
              "      <td>0.0</td>\n",
              "      <td>0.0</td>\n",
              "      <td>...</td>\n",
              "      <td>0.0</td>\n",
              "      <td>0.0</td>\n",
              "      <td>0.0</td>\n",
              "      <td>0.0</td>\n",
              "      <td>0.0</td>\n",
              "      <td>0.000000</td>\n",
              "      <td>0.00000</td>\n",
              "      <td>0.0</td>\n",
              "      <td>0.0</td>\n",
              "      <td>0.0</td>\n",
              "    </tr>\n",
              "    <tr>\n",
              "      <th>99</th>\n",
              "      <td>0.0</td>\n",
              "      <td>0.0</td>\n",
              "      <td>0.0</td>\n",
              "      <td>0.000000</td>\n",
              "      <td>0.0</td>\n",
              "      <td>0.0</td>\n",
              "      <td>0.0</td>\n",
              "      <td>0.000000</td>\n",
              "      <td>0.0</td>\n",
              "      <td>0.0</td>\n",
              "      <td>...</td>\n",
              "      <td>0.0</td>\n",
              "      <td>0.0</td>\n",
              "      <td>0.0</td>\n",
              "      <td>0.0</td>\n",
              "      <td>0.0</td>\n",
              "      <td>0.000000</td>\n",
              "      <td>0.00000</td>\n",
              "      <td>0.0</td>\n",
              "      <td>0.0</td>\n",
              "      <td>0.0</td>\n",
              "    </tr>\n",
              "  </tbody>\n",
              "</table>\n",
              "<p>100 rows × 1000 columns</p>\n",
              "</div>\n",
              "    <div class=\"colab-df-buttons\">\n",
              "\n",
              "  <div class=\"colab-df-container\">\n",
              "    <button class=\"colab-df-convert\" onclick=\"convertToInteractive('df-5b560d48-dbaa-492c-8810-8af1000b5843')\"\n",
              "            title=\"Convert this dataframe to an interactive table.\"\n",
              "            style=\"display:none;\">\n",
              "\n",
              "  <svg xmlns=\"http://www.w3.org/2000/svg\" height=\"24px\" viewBox=\"0 -960 960 960\">\n",
              "    <path d=\"M120-120v-720h720v720H120Zm60-500h600v-160H180v160Zm220 220h160v-160H400v160Zm0 220h160v-160H400v160ZM180-400h160v-160H180v160Zm440 0h160v-160H620v160ZM180-180h160v-160H180v160Zm440 0h160v-160H620v160Z\"/>\n",
              "  </svg>\n",
              "    </button>\n",
              "\n",
              "  <style>\n",
              "    .colab-df-container {\n",
              "      display:flex;\n",
              "      gap: 12px;\n",
              "    }\n",
              "\n",
              "    .colab-df-convert {\n",
              "      background-color: #E8F0FE;\n",
              "      border: none;\n",
              "      border-radius: 50%;\n",
              "      cursor: pointer;\n",
              "      display: none;\n",
              "      fill: #1967D2;\n",
              "      height: 32px;\n",
              "      padding: 0 0 0 0;\n",
              "      width: 32px;\n",
              "    }\n",
              "\n",
              "    .colab-df-convert:hover {\n",
              "      background-color: #E2EBFA;\n",
              "      box-shadow: 0px 1px 2px rgba(60, 64, 67, 0.3), 0px 1px 3px 1px rgba(60, 64, 67, 0.15);\n",
              "      fill: #174EA6;\n",
              "    }\n",
              "\n",
              "    .colab-df-buttons div {\n",
              "      margin-bottom: 4px;\n",
              "    }\n",
              "\n",
              "    [theme=dark] .colab-df-convert {\n",
              "      background-color: #3B4455;\n",
              "      fill: #D2E3FC;\n",
              "    }\n",
              "\n",
              "    [theme=dark] .colab-df-convert:hover {\n",
              "      background-color: #434B5C;\n",
              "      box-shadow: 0px 1px 3px 1px rgba(0, 0, 0, 0.15);\n",
              "      filter: drop-shadow(0px 1px 2px rgba(0, 0, 0, 0.3));\n",
              "      fill: #FFFFFF;\n",
              "    }\n",
              "  </style>\n",
              "\n",
              "    <script>\n",
              "      const buttonEl =\n",
              "        document.querySelector('#df-5b560d48-dbaa-492c-8810-8af1000b5843 button.colab-df-convert');\n",
              "      buttonEl.style.display =\n",
              "        google.colab.kernel.accessAllowed ? 'block' : 'none';\n",
              "\n",
              "      async function convertToInteractive(key) {\n",
              "        const element = document.querySelector('#df-5b560d48-dbaa-492c-8810-8af1000b5843');\n",
              "        const dataTable =\n",
              "          await google.colab.kernel.invokeFunction('convertToInteractive',\n",
              "                                                    [key], {});\n",
              "        if (!dataTable) return;\n",
              "\n",
              "        const docLinkHtml = 'Like what you see? Visit the ' +\n",
              "          '<a target=\"_blank\" href=https://colab.research.google.com/notebooks/data_table.ipynb>data table notebook</a>'\n",
              "          + ' to learn more about interactive tables.';\n",
              "        element.innerHTML = '';\n",
              "        dataTable['output_type'] = 'display_data';\n",
              "        await google.colab.output.renderOutput(dataTable, element);\n",
              "        const docLink = document.createElement('div');\n",
              "        docLink.innerHTML = docLinkHtml;\n",
              "        element.appendChild(docLink);\n",
              "      }\n",
              "    </script>\n",
              "  </div>\n",
              "\n",
              "\n",
              "<div id=\"df-02182cf6-7847-4027-8754-77d0ecf56f28\">\n",
              "  <button class=\"colab-df-quickchart\" onclick=\"quickchart('df-02182cf6-7847-4027-8754-77d0ecf56f28')\"\n",
              "            title=\"Suggest charts.\"\n",
              "            style=\"display:none;\">\n",
              "\n",
              "<svg xmlns=\"http://www.w3.org/2000/svg\" height=\"24px\"viewBox=\"0 0 24 24\"\n",
              "     width=\"24px\">\n",
              "    <g>\n",
              "        <path d=\"M19 3H5c-1.1 0-2 .9-2 2v14c0 1.1.9 2 2 2h14c1.1 0 2-.9 2-2V5c0-1.1-.9-2-2-2zM9 17H7v-7h2v7zm4 0h-2V7h2v10zm4 0h-2v-4h2v4z\"/>\n",
              "    </g>\n",
              "</svg>\n",
              "  </button>\n",
              "\n",
              "<style>\n",
              "  .colab-df-quickchart {\n",
              "      --bg-color: #E8F0FE;\n",
              "      --fill-color: #1967D2;\n",
              "      --hover-bg-color: #E2EBFA;\n",
              "      --hover-fill-color: #174EA6;\n",
              "      --disabled-fill-color: #AAA;\n",
              "      --disabled-bg-color: #DDD;\n",
              "  }\n",
              "\n",
              "  [theme=dark] .colab-df-quickchart {\n",
              "      --bg-color: #3B4455;\n",
              "      --fill-color: #D2E3FC;\n",
              "      --hover-bg-color: #434B5C;\n",
              "      --hover-fill-color: #FFFFFF;\n",
              "      --disabled-bg-color: #3B4455;\n",
              "      --disabled-fill-color: #666;\n",
              "  }\n",
              "\n",
              "  .colab-df-quickchart {\n",
              "    background-color: var(--bg-color);\n",
              "    border: none;\n",
              "    border-radius: 50%;\n",
              "    cursor: pointer;\n",
              "    display: none;\n",
              "    fill: var(--fill-color);\n",
              "    height: 32px;\n",
              "    padding: 0;\n",
              "    width: 32px;\n",
              "  }\n",
              "\n",
              "  .colab-df-quickchart:hover {\n",
              "    background-color: var(--hover-bg-color);\n",
              "    box-shadow: 0 1px 2px rgba(60, 64, 67, 0.3), 0 1px 3px 1px rgba(60, 64, 67, 0.15);\n",
              "    fill: var(--button-hover-fill-color);\n",
              "  }\n",
              "\n",
              "  .colab-df-quickchart-complete:disabled,\n",
              "  .colab-df-quickchart-complete:disabled:hover {\n",
              "    background-color: var(--disabled-bg-color);\n",
              "    fill: var(--disabled-fill-color);\n",
              "    box-shadow: none;\n",
              "  }\n",
              "\n",
              "  .colab-df-spinner {\n",
              "    border: 2px solid var(--fill-color);\n",
              "    border-color: transparent;\n",
              "    border-bottom-color: var(--fill-color);\n",
              "    animation:\n",
              "      spin 1s steps(1) infinite;\n",
              "  }\n",
              "\n",
              "  @keyframes spin {\n",
              "    0% {\n",
              "      border-color: transparent;\n",
              "      border-bottom-color: var(--fill-color);\n",
              "      border-left-color: var(--fill-color);\n",
              "    }\n",
              "    20% {\n",
              "      border-color: transparent;\n",
              "      border-left-color: var(--fill-color);\n",
              "      border-top-color: var(--fill-color);\n",
              "    }\n",
              "    30% {\n",
              "      border-color: transparent;\n",
              "      border-left-color: var(--fill-color);\n",
              "      border-top-color: var(--fill-color);\n",
              "      border-right-color: var(--fill-color);\n",
              "    }\n",
              "    40% {\n",
              "      border-color: transparent;\n",
              "      border-right-color: var(--fill-color);\n",
              "      border-top-color: var(--fill-color);\n",
              "    }\n",
              "    60% {\n",
              "      border-color: transparent;\n",
              "      border-right-color: var(--fill-color);\n",
              "    }\n",
              "    80% {\n",
              "      border-color: transparent;\n",
              "      border-right-color: var(--fill-color);\n",
              "      border-bottom-color: var(--fill-color);\n",
              "    }\n",
              "    90% {\n",
              "      border-color: transparent;\n",
              "      border-bottom-color: var(--fill-color);\n",
              "    }\n",
              "  }\n",
              "</style>\n",
              "\n",
              "  <script>\n",
              "    async function quickchart(key) {\n",
              "      const quickchartButtonEl =\n",
              "        document.querySelector('#' + key + ' button');\n",
              "      quickchartButtonEl.disabled = true;  // To prevent multiple clicks.\n",
              "      quickchartButtonEl.classList.add('colab-df-spinner');\n",
              "      try {\n",
              "        const charts = await google.colab.kernel.invokeFunction(\n",
              "            'suggestCharts', [key], {});\n",
              "      } catch (error) {\n",
              "        console.error('Error during call to suggestCharts:', error);\n",
              "      }\n",
              "      quickchartButtonEl.classList.remove('colab-df-spinner');\n",
              "      quickchartButtonEl.classList.add('colab-df-quickchart-complete');\n",
              "    }\n",
              "    (() => {\n",
              "      let quickchartButtonEl =\n",
              "        document.querySelector('#df-02182cf6-7847-4027-8754-77d0ecf56f28 button');\n",
              "      quickchartButtonEl.style.display =\n",
              "        google.colab.kernel.accessAllowed ? 'block' : 'none';\n",
              "    })();\n",
              "  </script>\n",
              "</div>\n",
              "    </div>\n",
              "  </div>\n"
            ]
          },
          "metadata": {},
          "execution_count": 13
        }
      ]
    },
    {
      "cell_type": "markdown",
      "source": [
        "\n",
        "# Topic modelling using TruncatedSVD"
      ],
      "metadata": {
        "id": "5VF3jC3dX9vh"
      }
    },
    {
      "cell_type": "code",
      "source": [
        "from sklearn.decomposition import TruncatedSVD\n",
        "svd_model = TruncatedSVD(n_components=5, algorithm='randomized', n_iter=100, random_state=122)\n",
        "svd_model.fit(X)\n",
        "print(\"The number of topics chosen are\",len(svd_model.components_))"
      ],
      "metadata": {
        "colab": {
          "base_uri": "https://localhost:8080/"
        },
        "id": "vCYngE8lShFg",
        "outputId": "aef80803-a08a-4b10-82b1-944962a5eaee"
      },
      "execution_count": 14,
      "outputs": [
        {
          "output_type": "stream",
          "name": "stdout",
          "text": [
            "The number of topics chosen are 5\n"
          ]
        }
      ]
    },
    {
      "cell_type": "code",
      "source": [
        "svd_model.components_.shape"
      ],
      "metadata": {
        "colab": {
          "base_uri": "https://localhost:8080/"
        },
        "id": "Zlw0yme0S9-G",
        "outputId": "a0a538b8-5c73-430f-ecd1-02563410eb88"
      },
      "execution_count": 15,
      "outputs": [
        {
          "output_type": "execute_result",
          "data": {
            "text/plain": [
              "(5, 1000)"
            ]
          },
          "metadata": {},
          "execution_count": 15
        }
      ]
    },
    {
      "cell_type": "code",
      "source": [
        "terms = tfidf.get_feature_names_out()\n",
        "topics = []\n",
        "\n",
        "for i, comp in enumerate(svd_model.components_):\n",
        "    terms_comp = zip(terms, comp)\n",
        "    sorted_terms = sorted(terms_comp, key= lambda x:x[1], reverse=True)[:7]\n",
        "    topics.append(\"Topic \"+str(i)+\": \")\n",
        "    for t in sorted_terms:\n",
        "        topics.append(t[0])\n",
        "\n",
        "final_topic_list = [topics[i:i+8] for i in range(0, len(topics), 8)]\n",
        "\n",
        "for x in final_topic_list:\n",
        "    print (x)"
      ],
      "metadata": {
        "colab": {
          "base_uri": "https://localhost:8080/"
        },
        "id": "xnLJKgxLTBLi",
        "outputId": "4b5b4900-897a-4bda-c073-82301ad1e20e"
      },
      "execution_count": 16,
      "outputs": [
        {
          "output_type": "stream",
          "name": "stdout",
          "text": [
            "['Topic 0: ', 'like', 'know', 'chip', 'think', 'time', 'good', 'year']\n",
            "['Topic 1: ', 'memory', 'cache', 'vram', 'simm', 'chip', 'simms', 'song']\n",
            "['Topic 2: ', 'chip', 'phone', 'government', 'clipper', 'voice', 'key', 'work']\n",
            "['Topic 3: ', 'israel', 'israeli', 'arab', 'memory', 'table', 'medium', 'know']\n",
            "['Topic 4: ', 'vram', 'need', 'jesus', 'really', 'government', 'appears', 'simms']\n"
          ]
        }
      ]
    },
    {
      "cell_type": "markdown",
      "source": [
        "# Gensim LSI & LDA"
      ],
      "metadata": {
        "id": "rvHYU-wFYEF7"
      }
    },
    {
      "cell_type": "code",
      "source": [
        "from nltk.corpus import stopwords\n",
        "from nltk.stem.wordnet import WordNetLemmatizer\n",
        "import string\n",
        "import gensim\n",
        "from gensim.models.lsimodel import LsiModel\n",
        "from gensim import corpora\n",
        "from pprint import pprint"
      ],
      "metadata": {
        "id": "Y4U2qKYTTp2R"
      },
      "execution_count": 17,
      "outputs": []
    },
    {
      "cell_type": "code",
      "source": [
        "stop = stopwords_set\n",
        "exclude = set(string.punctuation)\n",
        "lemma = WordNetLemmatizer()\n",
        "\n",
        "# Function to lemmatize and remove the stopwords\n",
        "def clean(doc):\n",
        "    stop_free = \" \".join([i for i in doc.lower().split() if i not in stop])\n",
        "    punc_free = \"\".join(ch for ch in stop_free if ch not in exclude)\n",
        "    normalized = \" \".join(lemma.lemmatize(word) for word in punc_free.split())\n",
        "    return normalized\n",
        "\n",
        "# Creating a list of documents from the complaints column\n",
        "list_of_docs = tokenized_doc.tolist()\n",
        "\n",
        "# Implementing the function for all the complaints of list_of_docs\n",
        "doc_clean = [clean(doc).split() for doc in list_of_docs]\n",
        "print(doc_clean[:2])"
      ],
      "metadata": {
        "colab": {
          "base_uri": "https://localhost:8080/"
        },
        "id": "r91F_P8TTsep",
        "outputId": "71b4c5f9-14ee-4c0b-9ef7-a38192b82350"
      },
      "execution_count": 18,
      "outputs": [
        {
          "output_type": "stream",
          "name": "stdout",
          "text": [
            "[['well', 'sure', 'story', 'seem', 'biased', 'disagree', 'statement', 'medium', 'ruin', 'israel', 'reputation', 'rediculous', 'medium', 'israeli', 'medium', 'world', 'lived', 'europe', 'realize', 'incidence', 'described', 'letter', 'occured', 'medium', 'whole', 'seem', 'ignore', 'subsidizing', 'israel', 'existance', 'european', 'least', 'degree', 'think', 'might', 'reason', 'report', 'clearly', 'atrocity', 'shame', 'austria', 'daily', 'report', 'inhuman', 'act', 'commited', 'israeli', 'soldier', 'blessing', 'received', 'government', 'make', 'holocaust', 'guilt', 'away', 'look', 'jew', 'treating', 'race', 'power', 'unfortunate'], ['yeah', 'expect', 'people', 'read', 'actually', 'accept', 'hard', 'atheism', 'need', 'little', 'leap', 'faith', 'jimmy', 'logic', 'run', 'steam', 'sorry', 'pity', 'sorry', 'feeling', 'denial', 'faith', 'need', 'well', 'pretend', 'happily', 'ever', 'anyway', 'maybe', 'start', 'newsgroup', 'atheist', 'hard', 'bummin', 'much', 'forget', 'flintstone', 'chewables', 'bake', 'timmons']]\n"
          ]
        }
      ]
    },
    {
      "cell_type": "code",
      "source": [
        "# Creating the dictionary id2word from our cleaned word list doc_clean\n",
        "dictionary = corpora.Dictionary(doc_clean)\n",
        "\n",
        "# Creating the corpus\n",
        "doc_term_matrix = [dictionary.doc2bow(doc) for doc in doc_clean]\n",
        "\n",
        "# Creating the LSi model\n",
        "lsimodel = LsiModel(corpus=doc_term_matrix, num_topics=5, id2word=dictionary)\n",
        "pprint(lsimodel.print_topics())"
      ],
      "metadata": {
        "colab": {
          "base_uri": "https://localhost:8080/"
        },
        "id": "B9EMIxYMTxS8",
        "outputId": "ef678e64-2c2b-4cc7-f713-90de89f2ec89"
      },
      "execution_count": 19,
      "outputs": [
        {
          "output_type": "stream",
          "name": "stdout",
          "text": [
            "[(0,\n",
            "  '0.435*\"graphic\" + 0.249*\"mail\" + 0.228*\"image\" + 0.224*\"file\" + '\n",
            "  '0.191*\"send\" + 0.174*\"object\" + 0.158*\"format\" + 0.157*\"server\" + '\n",
            "  '0.137*\"also\" + 0.124*\"tracer\"'),\n",
            " (1,\n",
            "  '-0.463*\"israel\" + -0.322*\"israeli\" + -0.205*\"soldier\" + -0.204*\"lebanese\" + '\n",
            "  '-0.183*\"peace\" + -0.181*\"village\" + -0.136*\"zone\" + -0.133*\"would\" + '\n",
            "  '-0.122*\"people\" + -0.118*\"time\"'),\n",
            " (2,\n",
            "  '0.231*\"know\" + 0.218*\"would\" + 0.216*\"like\" + 0.210*\"good\" + '\n",
            "  '-0.198*\"israel\" + 0.194*\"patch\" + 0.170*\"contact\" + 0.170*\"bike\" + '\n",
            "  '0.145*\"life\" + 0.143*\"jesus\"'),\n",
            " (3,\n",
            "  '0.348*\"adirondack\" + 0.280*\"john\" + 0.278*\"providence\" + 0.278*\"cape\" + '\n",
            "  '0.278*\"rochester\" + 0.278*\"fredericton\" + 0.278*\"breton\" + '\n",
            "  '0.278*\"baltimore\" + 0.278*\"moncton\" + 0.278*\"utica\"'),\n",
            " (4,\n",
            "  '-0.293*\"patch\" + -0.267*\"contact\" + -0.248*\"bike\" + -0.216*\"force\" + '\n",
            "  '0.193*\"life\" + 0.188*\"good\" + 0.168*\"jesus\" + -0.163*\"motorcycle\" + '\n",
            "  '-0.160*\"wheel\" + -0.160*\"effect\"')]\n"
          ]
        }
      ]
    },
    {
      "cell_type": "code",
      "source": [
        "import string\n",
        "from gensim.models.ldamodel import LdaModel\n",
        "\n",
        "# Creating the dictionary id2word from our cleaned word list doc_clean\n",
        "dictionary = corpora.Dictionary(doc_clean)\n",
        "\n",
        "# Creating the corpus\n",
        "doc_term_matrix = [dictionary.doc2bow(doc) for doc in doc_clean]\n",
        "\n",
        "# Creating the LDA model\n",
        "ldamodel = LdaModel(corpus=doc_term_matrix, num_topics=5,id2word=dictionary, random_state=20, passes=30)\n",
        "\n",
        "# printing the topics\n",
        "pprint(ldamodel.print_topics())"
      ],
      "metadata": {
        "colab": {
          "base_uri": "https://localhost:8080/"
        },
        "id": "8VfRdxzAT3g2",
        "outputId": "acb7168e-7b3a-4b2d-86cc-47d7f8c52634"
      },
      "execution_count": 20,
      "outputs": [
        {
          "output_type": "stream",
          "name": "stdout",
          "text": [
            "[(0,\n",
            "  '0.018*\"graphic\" + 0.010*\"mail\" + 0.009*\"image\" + 0.009*\"file\" + '\n",
            "  '0.008*\"send\" + 0.007*\"object\" + 0.006*\"format\" + 0.006*\"server\" + '\n",
            "  '0.006*\"also\" + 0.005*\"tracer\"'),\n",
            " (1,\n",
            "  '0.011*\"israel\" + 0.007*\"israeli\" + 0.006*\"would\" + 0.004*\"even\" + '\n",
            "  '0.004*\"mormon\" + 0.004*\"soldier\" + 0.004*\"time\" + 0.004*\"year\" + '\n",
            "  '0.004*\"lebanese\" + 0.004*\"peace\"'),\n",
            " (2,\n",
            "  '0.006*\"think\" + 0.005*\"well\" + 0.005*\"like\" + 0.004*\"much\" + 0.004*\"year\" + '\n",
            "  '0.003*\"thing\" + 0.003*\"cache\" + 0.003*\"would\" + 0.003*\"bike\" + '\n",
            "  '0.003*\"want\"'),\n",
            " (3,\n",
            "  '0.006*\"time\" + 0.005*\"good\" + 0.005*\"jesus\" + 0.004*\"life\" + 0.004*\"power\" '\n",
            "  '+ 0.004*\"know\" + 0.004*\"creation\" + 0.004*\"better\" + 0.004*\"torrey\" + '\n",
            "  '0.003*\"would\"'),\n",
            " (4,\n",
            "  '0.008*\"like\" + 0.006*\"know\" + 0.006*\"chip\" + 0.005*\"would\" + '\n",
            "  '0.004*\"government\" + 0.004*\"system\" + 0.004*\"another\" + 0.004*\"good\" + '\n",
            "  '0.004*\"could\" + 0.004*\"need\"')]\n"
          ]
        }
      ]
    },
    {
      "cell_type": "markdown",
      "source": [
        "# Evaluation Metric"
      ],
      "metadata": {
        "id": "benLctBgYZEZ"
      }
    },
    {
      "cell_type": "code",
      "source": [
        "from gensim.models.coherencemodel import CoherenceModel\n",
        "\n",
        "# Compute Perplexity\n",
        "perplexity_lda = ldamodel.log_perplexity(doc_term_matrix)\n",
        "print('\\nPerplexity: ', perplexity_lda)\n",
        "\n",
        "\n",
        "# Compute Coherence Score\n",
        "coherence_model_lda = CoherenceModel(model=ldamodel, texts=doc_clean, dictionary=dictionary, coherence='c_v')\n",
        "coherence_lda = coherence_model_lda.get_coherence()\n",
        "print('\\nCoherence Score: ', coherence_lda)"
      ],
      "metadata": {
        "colab": {
          "base_uri": "https://localhost:8080/"
        },
        "id": "0fXMtYoaUGhi",
        "outputId": "332f61f7-f544-4142-a154-a3fd3944540e"
      },
      "execution_count": 21,
      "outputs": [
        {
          "output_type": "stream",
          "name": "stdout",
          "text": [
            "\n",
            "Perplexity:  -7.889941321156568\n",
            "\n",
            "Coherence Score:  0.4146679867713507\n"
          ]
        }
      ]
    },
    {
      "cell_type": "markdown",
      "source": [
        "# pyLDAvis Visualization"
      ],
      "metadata": {
        "id": "GaG81S5dYdBV"
      }
    },
    {
      "cell_type": "code",
      "source": [
        "import pyLDAvis\n",
        "import pyLDAvis.gensim\n",
        "\n",
        "pyLDAvis.enable_notebook()\n",
        "vis = pyLDAvis.gensim.prepare(ldamodel, doc_term_matrix, dictionary)\n",
        "vis\n"
      ],
      "metadata": {
        "colab": {
          "base_uri": "https://localhost:8080/",
          "height": 881
        },
        "id": "ti7qmlCgUK4x",
        "outputId": "52a8d450-3b56-41a5-ca2a-88c7bdafeed9"
      },
      "execution_count": 22,
      "outputs": [
        {
          "output_type": "execute_result",
          "data": {
            "text/plain": [
              "PreparedData(topic_coordinates=              x         y  topics  cluster       Freq\n",
              "topic                                                \n",
              "0     -0.213478 -0.002697       1        1  44.885271\n",
              "4      0.061487 -0.134099       2        1  20.194117\n",
              "1      0.059983  0.083884       3        1  15.351958\n",
              "3      0.054142  0.038978       4        1  10.974765\n",
              "2      0.037865  0.013934       5        1   8.593889, topic_info=         Term       Freq      Total Category  logprob  loglift\n",
              "1060  graphic  91.000000  91.000000  Default  30.0000  30.0000\n",
              "21     israel  19.000000  19.000000  Default  29.0000  29.0000\n",
              "1123    image  49.000000  49.000000  Default  28.0000  28.0000\n",
              "281      file  49.000000  49.000000  Default  27.0000  27.0000\n",
              "22    israeli  12.000000  12.000000  Default  26.0000  26.0000\n",
              "...       ...        ...        ...      ...      ...      ...\n",
              "190      good   2.299325  25.632673   Topic5  -6.0524   0.0429\n",
              "373       say   1.756490   6.249010   Topic5  -6.3217   1.1850\n",
              "2103   really   1.754994  14.303293   Topic5  -6.3226   0.3561\n",
              "2546     game   1.754342   5.528069   Topic5  -6.3230   1.3064\n",
              "75      maybe   1.753583   7.557479   Topic5  -6.3234   0.9932\n",
              "\n",
              "[320 rows x 6 columns], token_table=      Topic      Freq        Term\n",
              "term                             \n",
              "2536      2  0.992005  adirondack\n",
              "3486      4  0.797524   admitting\n",
              "3631      3  0.878131      agenda\n",
              "3632      3  0.878131       agent\n",
              "3469      5  0.560989        alot\n",
              "...     ...       ...         ...\n",
              "186       2  0.332515        year\n",
              "186       3  0.332515        year\n",
              "186       4  0.142506        year\n",
              "186       5  0.190008        year\n",
              "2882      3  0.836673        zone\n",
              "\n",
              "[558 rows x 3 columns], R=30, lambda_step=0.01, plot_opts={'xlab': 'PC1', 'ylab': 'PC2'}, topic_order=[1, 5, 2, 4, 3])"
            ],
            "text/html": [
              "\n",
              "<link rel=\"stylesheet\" type=\"text/css\" href=\"https://cdn.jsdelivr.net/gh/bmabey/pyLDAvis@3.4.0/pyLDAvis/js/ldavis.v1.0.0.css\">\n",
              "\n",
              "\n",
              "<div id=\"ldavis_el7621389786830249124938473021\" style=\"background-color:white;\"></div>\n",
              "<script type=\"text/javascript\">\n",
              "\n",
              "var ldavis_el7621389786830249124938473021_data = {\"mdsDat\": {\"x\": [-0.2134779260582989, 0.06148726141520332, 0.059983227650412765, 0.054142212103882384, 0.037865224888800474], \"y\": [-0.002697092139553988, -0.13409931047632406, 0.08388449618029263, 0.03897807665087904, 0.013933829784706501], \"topics\": [1, 2, 3, 4, 5], \"cluster\": [1, 1, 1, 1, 1], \"Freq\": [44.88527114060227, 20.194116956746885, 15.351957862855123, 10.974764623898755, 8.593889415896967]}, \"tinfo\": {\"Term\": [\"graphic\", \"israel\", \"image\", \"file\", \"israeli\", \"server\", \"chip\", \"send\", \"would\", \"tracer\", \"know\", \"format\", \"rayshade\", \"amiga\", \"archie\", \"think\", \"mail\", \"object\", \"like\", \"year\", \"good\", \"cache\", \"time\", \"jesus\", \"government\", \"archive\", \"well\", \"bike\", \"mormon\", \"soldier\", \"graphic\", \"server\", \"tracer\", \"rayshade\", \"amiga\", \"archie\", \"archive\", \"animation\", \"listing\", \"database\", \"comp\", \"various\", \"image\", \"utah\", \"unix\", \"directory\", \"radiance\", \"demo\", \"news\", \"siggraph\", \"rendering\", \"subscription\", \"texture\", \"tracing\", \"shareware\", \"radiosity\", \"inria\", \"library\", \"nfotis\", \"author\", \"file\", \"send\", \"format\", \"object\", \"package\", \"mail\", \"available\", \"based\", \"site\", \"resource\", \"stuff\", \"data\", \"message\", \"software\", \"imagine\", \"also\", \"line\", \"system\", \"many\", \"computer\", \"help\", \"program\", \"adirondack\", \"utica\", \"moncton\", \"fredericton\", \"rochester\", \"breton\", \"springfield\", \"providence\", \"cape\", \"baltimore\", \"clipper\", \"chip\", \"binghamton\", \"discussion\", \"neon\", \"tonne\", \"cipher\", \"conductor\", \"starter\", \"encryption\", \"single\", \"payload\", \"contest\", \"metal\", \"stolen\", \"willing\", \"spare\", \"transmit\", \"resistor\", \"encrypted\", \"key\", \"current\", \"connector\", \"government\", \"session\", \"cable\", \"hole\", \"possibility\", \"moon\", \"drive\", \"patch\", \"effect\", \"another\", \"bike\", \"know\", \"like\", \"cache\", \"john\", \"could\", \"need\", \"force\", \"would\", \"good\", \"phone\", \"find\", \"system\", \"contact\", \"well\", \"year\", \"work\", \"back\", \"much\", \"anyone\", \"thing\", \"card\", \"israeli\", \"israel\", \"mormon\", \"soldier\", \"lebanese\", \"peace\", \"village\", \"keyboard\", \"belief\", \"andrew\", \"zone\", \"vote\", \"policy\", \"weapon\", \"cjackson\", \"occupied\", \"northern\", \"street\", \"medium\", \"assembly\", \"realize\", \"overturn\", \"agenda\", \"agent\", \"killed\", \"withdraw\", \"border\", \"regular\", \"suspect\", \"receiving\", \"story\", \"conference\", \"point\", \"attack\", \"even\", \"would\", \"sure\", \"death\", \"really\", \"year\", \"question\", \"believe\", \"time\", \"application\", \"work\", \"people\", \"like\", \"know\", \"paper\", \"might\", \"well\", \"info\", \"torrey\", \"master\", \"panther\", \"repeat\", \"kendigianism\", \"bird\", \"lyric\", \"priest\", \"atmanager\", \"drop\", \"turmeric\", \"huizenga\", \"consecutive\", \"immoral\", \"conception\", \"tradition\", \"admitting\", \"ignorance\", \"took\", \"moral\", \"live\", \"doctrine\", \"coreldraw\", \"premise\", \"intelligence\", \"damon\", \"wonder\", \"scoring\", \"white\", \"grand\", \"jesus\", \"guess\", \"forget\", \"stress\", \"florida\", \"creation\", \"faith\", \"bill\", \"mary\", \"power\", \"life\", \"bible\", \"better\", \"good\", \"time\", \"control\", \"christ\", \"know\", \"follow\", \"since\", \"people\", \"would\", \"also\", \"come\", \"going\", \"name\", \"part\", \"heaven\", \"giant\", \"concentration\", \"father\", \"manta\", \"prizm\", \"comic\", \"alot\", \"kepley\", \"icon\", \"sold\", \"hope\", \"shove\", \"radio\", \"speedup\", \"conventional\", \"wisdom\", \"swing\", \"clark\", \"barry\", \"wingo\", \"hitter\", \"reactor\", \"basalt\", \"fusion\", \"critical\", \"increase\", \"perspective\", \"pa\", \"grading\", \"heart\", \"love\", \"le\", \"earth\", \"think\", \"always\", \"cache\", \"well\", \"decided\", \"bike\", \"lunar\", \"product\", \"year\", \"want\", \"salt\", \"much\", \"thing\", \"like\", \"sometimes\", \"today\", \"child\", \"problem\", \"would\", \"course\", \"work\", \"u\", \"make\", \"others\", \"last\", \"good\", \"say\", \"really\", \"game\", \"maybe\"], \"Freq\": [91.0, 19.0, 49.0, 49.0, 12.0, 33.0, 14.0, 42.0, 30.0, 26.0, 28.0, 34.0, 25.0, 25.0, 25.0, 16.0, 58.0, 38.0, 42.0, 21.0, 25.0, 10.0, 30.0, 9.0, 13.0, 23.0, 22.0, 10.0, 7.0, 7.0, 90.87081560938401, 32.995152155405115, 26.08517786204088, 25.221557975851365, 25.22142958941624, 25.2214034366239, 22.630134843484218, 15.72005475018733, 13.128750494149001, 13.12869224474788, 13.128691055984591, 13.128682734641574, 47.688000114550775, 12.26494278335995, 12.26489166653856, 12.264866702509506, 11.4011754905227, 10.537351137047617, 10.537344004467887, 10.537321417965412, 9.673624856543809, 9.67360643071284, 9.673609997002705, 9.67359157117174, 9.673579683538856, 9.673567795905974, 8.80985340303505, 8.809851025508472, 8.809834977204082, 8.809820117662978, 46.81885247907114, 39.90672176910211, 32.99774841442654, 36.45128883618692, 25.227309212639664, 52.87164998326789, 17.447830654809337, 16.58433915505495, 18.312010448507593, 13.993058674282382, 20.90952361520018, 19.152901180626767, 20.039869566559773, 14.857577265517774, 15.700812238841277, 29.406508785941078, 18.09239712988268, 23.22995864591638, 17.450479219415442, 15.725388731061473, 15.720426833096536, 15.721450358287674, 7.524326289024759, 6.048924966225732, 6.048920152748651, 6.048919617917864, 6.048915339271571, 6.0489115954560635, 6.04891052579449, 6.04890731680977, 6.04890089884033, 6.048899829178756, 6.0460400889622266, 13.350217190238919, 5.311183122855641, 4.573364798683052, 3.83573767651671, 3.835693552976807, 3.8356817866994994, 3.835593272204299, 3.0980338061324764, 3.098027120747642, 3.0980105409932546, 3.0980078668393207, 3.0979990421313404, 3.09799823988516, 3.098001983700667, 3.0979944960696533, 3.0979554534222236, 3.0979479657912097, 3.097944489391096, 3.097516357346336, 7.52399950741408, 6.786455016604285, 5.311362291169188, 10.204394916237078, 5.31086650302991, 6.049869477395059, 6.0498919402881, 4.571687569335934, 5.311177239716987, 5.962645528883142, 8.261687332874713, 5.311499742681373, 9.737911225423698, 6.7863967200485344, 13.82550205647837, 17.796692315113823, 6.786231457335441, 6.048980053796763, 8.965352432669675, 8.878353647918964, 6.787382413188437, 10.393883324644724, 9.000903704723758, 8.328094597506364, 7.527012744066395, 9.882434270269622, 8.261579831886584, 7.420653084836839, 7.269953814066007, 7.151859967376066, 6.789523340827632, 6.339014510782446, 6.050858379519682, 6.049483864397842, 6.049383851040727, 12.403128882876647, 18.54796159682836, 6.958540299691493, 6.958415070372805, 6.276164115805025, 6.230778652498, 5.593961138703495, 4.91182768826916, 4.911064521284817, 4.229591370894473, 4.229526316702946, 3.547327405488387, 3.5473265923109927, 3.5473062628761407, 3.5473148012387785, 3.547305449698747, 3.547296911336109, 3.544532921373635, 2.865160818075242, 2.865120565794235, 2.86511304390334, 2.865102879185914, 2.8651026758915656, 2.8650984067102465, 2.8650888518758664, 2.8650853958719416, 2.8650750278601667, 2.863785125218809, 2.8614323997233906, 2.8335650137226573, 4.230056914952582, 4.229652765787725, 4.123757959409899, 3.548886266552836, 7.078759632454714, 9.762682522352893, 4.858682886267834, 3.5476721927034762, 5.595773711114897, 6.511597674470912, 5.150936402167586, 4.230714775464392, 6.621536005440794, 4.229784907114263, 5.2583693335863115, 4.912810413149904, 5.646831493334319, 5.170466483641177, 4.230795686615103, 4.230668830941627, 4.3255402045653195, 4.230620040297982, 4.975233096059904, 4.368427707429389, 3.761724922127835, 3.761716492959167, 3.7616554541515694, 3.15501225435267, 2.5481894260628413, 2.5481734397084703, 1.9414692011019739, 1.9414633878822027, 1.941445366900912, 1.9414494361547519, 1.9414446402484407, 1.9414447855789347, 1.941435048435818, 1.9414317058344497, 1.9414366470712552, 1.9414205153863902, 1.9356905699884173, 3.7617545695486685, 3.7621164424794253, 3.1550843382778333, 1.3347008717474997, 1.334701017077994, 1.3347008717474997, 1.3346991277815683, 1.3346968024936599, 1.3346934598922915, 1.3346956398497056, 1.33469476786674, 6.18991466840279, 3.7618342106595337, 4.367436844119389, 2.5486780271846103, 2.5482908667478488, 4.977425261235623, 1.7571708053993447, 3.1551674673205614, 3.1554558030212125, 5.582973250429628, 5.58337261862791, 3.7627064842862015, 4.9769450892825216, 6.798124530930026, 7.147093276438832, 3.763008481053315, 2.5489024174677786, 5.582314612629552, 2.5487050586565463, 3.7619876796614933, 4.081743833176089, 4.368749759804714, 4.368540774553939, 3.15605979655544, 3.155392729586695, 3.1568916683046977, 3.155538641402952, 2.299176997724861, 1.7519571757334043, 1.7519414710066936, 2.8468028665634426, 1.2044528478232783, 1.2044543272540553, 1.2044477267167422, 1.204446702495435, 1.2044473853096398, 1.204442833214941, 1.2044395329462845, 1.2044397605510195, 1.2044356636657907, 1.2044271284882306, 1.2044256490574534, 1.2044241696266764, 1.2044229178006343, 1.2044256490574534, 1.204423828219574, 1.2044220073816945, 1.2044181381012007, 1.204418707113038, 1.2044154068443815, 1.2044125617851948, 1.2044108547496828, 1.2044093753189056, 1.2044017505602853, 1.204341549107895, 1.2042987594177272, 1.2042862411573056, 2.2995311506924203, 2.2993857112667966, 1.7521276516798707, 1.7520052003324755, 5.587155909016666, 2.2998106493069206, 3.3948584531415813, 4.490635047337505, 1.7521498431415268, 2.8472143759242052, 2.2995090730331316, 1.7533810709551583, 3.9428418890187458, 2.846863864632405, 1.7519535340576453, 3.94317783360751, 3.3957074188028895, 4.489838430765231, 1.7526423797879265, 1.7520690434606248, 1.752225066506423, 2.299753748123187, 3.394512721549215, 1.7523552564148057, 2.8462058593437076, 2.2997289392070788, 2.300932740650151, 2.299693205263694, 2.3005437641581468, 2.299325168407304, 1.7564900378320047, 1.7549936505021737, 1.7543420181460545, 1.7535830701574133], \"Total\": [91.0, 19.0, 49.0, 49.0, 12.0, 33.0, 14.0, 42.0, 30.0, 26.0, 28.0, 34.0, 25.0, 25.0, 25.0, 16.0, 58.0, 38.0, 42.0, 21.0, 25.0, 10.0, 30.0, 9.0, 13.0, 23.0, 22.0, 10.0, 7.0, 7.0, 91.99354208235448, 33.51139722864379, 26.601023425158377, 25.73726030674575, 25.737219420887193, 25.737220293388546, 23.14584393966776, 16.23544084339011, 13.644021845451729, 13.64401122914082, 13.644014948294478, 13.644017282017142, 49.61666601192282, 12.780222801970698, 12.780208219075824, 12.780197274679157, 11.91642395491404, 11.052600027426452, 11.052607058535088, 11.052604318076243, 10.188814316903096, 10.188807595203171, 10.188814403082963, 10.188800438896342, 10.188801362688501, 10.188797860749528, 9.325008242600791, 9.325006151078746, 9.325002321940024, 9.325000238635745, 49.71280213468417, 42.39293546469479, 34.98690533822499, 38.937644562766025, 27.08214195340914, 58.17102832008133, 18.64504355699389, 17.836664492211955, 20.056367619160294, 15.18989789927035, 23.52095730950739, 21.84295644625727, 24.242648387749234, 16.846903507501665, 18.199417082100233, 44.50142234160038, 23.106955309700574, 37.28783740053955, 23.486915474985594, 19.492134569134418, 20.212342259936754, 20.28115938685631, 8.064475791326332, 6.589047635582636, 6.5890460528523205, 6.589045689822558, 6.589045502729033, 6.58904489616041, 6.589044374462992, 6.589045640518071, 6.5890439569955195, 6.589044486573126, 6.589182629638036, 14.642464998238621, 5.851325807393656, 5.113600491424101, 4.375888189561648, 4.375882282468894, 4.375885982458443, 4.3758844617280745, 3.638168525195371, 3.6381706553209052, 3.638169324044732, 3.638166819555424, 3.6381660545139027, 3.6381671676267455, 3.6381729855058205, 3.6381659302324416, 3.638163691962968, 3.6381602632099916, 3.638164120046845, 3.6381077409553937, 8.92742066212966, 8.189731331026666, 6.533294416144463, 13.743288784956844, 6.7142731171527315, 7.818585771463591, 8.058820203378787, 5.795978923500922, 6.946306798866555, 8.139539926839587, 12.256706898627884, 7.3209400607345865, 16.141815248294826, 10.064336745390726, 28.298588467616373, 42.48871806545069, 10.611846715131858, 8.922526963742525, 16.983658219894387, 17.241621996240124, 10.983269596921744, 30.68353535778731, 25.632673282796905, 20.91988397214202, 16.297041545957406, 37.28783740053955, 21.758608901827138, 22.266069352417652, 21.051705507265993, 19.354048329888464, 13.982792199049257, 25.068050228283262, 10.690620450001107, 18.802132453648767, 11.823259806553128, 12.968664228604665, 19.971454941815413, 7.509814527611669, 7.509805646081629, 6.827565872037976, 6.8310140091801195, 6.145324422654343, 5.4630604145675985, 5.463228238386537, 4.780833254664923, 4.780841234144219, 4.098589382397363, 4.098588602402466, 4.098589760190266, 4.098606879423305, 4.0985974691235105, 4.098597223429898, 4.098773000528418, 3.4163443923386456, 3.416344832016079, 3.4163428280579042, 3.4163475169240836, 3.4163476329400786, 3.4163478145541206, 3.416349283358777, 3.416350429125633, 3.4163540502029015, 3.416581359165801, 3.4166099874119453, 3.418378458018673, 5.387449767801272, 6.507717897217033, 6.409423527401973, 4.959793122595433, 16.82799449761152, 30.68353535778731, 8.910653036615631, 5.252624427244407, 14.30329283896262, 21.051705507265993, 13.638015020922193, 8.623571387752689, 30.02936157830105, 8.782814716229668, 19.354048329888464, 20.23863625686765, 42.48871806545069, 28.298588467616373, 11.307020929829164, 12.188203920434765, 22.266069352417652, 20.07565742607632, 5.541597897099595, 4.934841811067624, 4.3280610986955415, 4.328061737144296, 4.328072374569003, 3.7212857701146924, 3.1145245077672308, 3.114527618160424, 2.5077467728324283, 2.507749311898127, 2.5077432618477236, 2.5077519011775085, 2.5077522384847746, 2.50776086180823, 2.507756938678356, 2.5077554753389206, 2.5077624373678673, 2.5077571815767987, 2.510037824806898, 5.010037589955844, 5.065328292499481, 4.403240062775453, 1.900972406035424, 1.9009751490789004, 1.9009751388887175, 1.9009753294117566, 1.9009724662129406, 1.9009688205476625, 1.900979028840338, 1.9009790009490166, 9.079651043214884, 5.803144780042028, 6.902152648760873, 3.8517628676462734, 3.8518503633892784, 8.324924717857131, 2.58528323828327, 5.140562291069828, 5.196296156750967, 13.975717793808194, 14.713649655934391, 8.017151102551189, 13.30913581703329, 25.632673282796905, 30.02936157830105, 9.437466753173009, 4.343927693927213, 28.298588467616373, 4.714759832052116, 14.3132822274581, 20.23863625686765, 30.68353535778731, 44.50142234160038, 10.327832691244758, 11.152072711157702, 16.19155867002186, 18.02947960596932, 2.877720895330679, 2.330144749098895, 2.3301512641689492, 4.162587061032887, 1.7825638769042693, 1.7825671318879577, 1.7825604872336966, 1.7825655508516172, 1.7825666990983675, 1.782575531685281, 1.7825738302749894, 1.7825776333221732, 1.7825750146177946, 1.7825723861915654, 1.782580580309542, 1.7825813617279218, 1.7825805408638566, 1.7825853324963628, 1.7825860997003122, 1.7825857951795117, 1.782585612776651, 1.7825884734862028, 1.7825895968839904, 1.7825910378036243, 1.7825920172677958, 1.7825914274066064, 1.7825950625257225, 1.7825899700212933, 1.7825933272250474, 1.782595227717432, 3.484249632743473, 4.22158448903631, 3.0120629818139157, 3.0674751386968024, 16.73809675603578, 4.895283166725415, 10.611846715131858, 22.266069352417652, 3.6740019084791244, 10.064336745390726, 6.565972234536675, 3.7948665334937797, 21.051705507265993, 11.298452778242616, 4.0570413294451635, 25.068050228283262, 18.802132453648767, 42.48871806545069, 4.405872693479639, 4.406486721791327, 4.4315826407166705, 10.213089156776757, 30.68353535778731, 4.9206625389845104, 19.354048329888464, 11.010396309997468, 12.369147511612782, 13.051895794030742, 15.396372895286728, 25.632673282796905, 6.249010165762163, 14.30329283896262, 5.528068520479761, 7.557479010160832], \"Category\": [\"Default\", \"Default\", \"Default\", \"Default\", \"Default\", \"Default\", \"Default\", \"Default\", \"Default\", \"Default\", \"Default\", \"Default\", \"Default\", \"Default\", \"Default\", \"Default\", \"Default\", \"Default\", \"Default\", \"Default\", \"Default\", \"Default\", \"Default\", \"Default\", \"Default\", \"Default\", \"Default\", \"Default\", \"Default\", \"Default\", \"Topic1\", \"Topic1\", \"Topic1\", \"Topic1\", \"Topic1\", \"Topic1\", \"Topic1\", \"Topic1\", \"Topic1\", \"Topic1\", \"Topic1\", \"Topic1\", \"Topic1\", \"Topic1\", \"Topic1\", \"Topic1\", \"Topic1\", \"Topic1\", \"Topic1\", \"Topic1\", \"Topic1\", \"Topic1\", \"Topic1\", \"Topic1\", \"Topic1\", \"Topic1\", \"Topic1\", \"Topic1\", \"Topic1\", \"Topic1\", \"Topic1\", \"Topic1\", \"Topic1\", \"Topic1\", \"Topic1\", \"Topic1\", \"Topic1\", \"Topic1\", \"Topic1\", \"Topic1\", \"Topic1\", \"Topic1\", \"Topic1\", \"Topic1\", \"Topic1\", \"Topic1\", \"Topic1\", \"Topic1\", \"Topic1\", \"Topic1\", \"Topic1\", \"Topic1\", \"Topic2\", \"Topic2\", \"Topic2\", \"Topic2\", \"Topic2\", \"Topic2\", \"Topic2\", \"Topic2\", \"Topic2\", \"Topic2\", \"Topic2\", \"Topic2\", \"Topic2\", \"Topic2\", \"Topic2\", \"Topic2\", \"Topic2\", \"Topic2\", \"Topic2\", \"Topic2\", \"Topic2\", \"Topic2\", \"Topic2\", \"Topic2\", \"Topic2\", \"Topic2\", \"Topic2\", \"Topic2\", \"Topic2\", \"Topic2\", \"Topic2\", \"Topic2\", \"Topic2\", \"Topic2\", \"Topic2\", \"Topic2\", \"Topic2\", \"Topic2\", \"Topic2\", \"Topic2\", \"Topic2\", \"Topic2\", \"Topic2\", \"Topic2\", \"Topic2\", \"Topic2\", \"Topic2\", \"Topic2\", \"Topic2\", \"Topic2\", \"Topic2\", \"Topic2\", \"Topic2\", \"Topic2\", \"Topic2\", \"Topic2\", \"Topic2\", \"Topic2\", \"Topic2\", \"Topic2\", \"Topic2\", \"Topic2\", \"Topic2\", \"Topic2\", \"Topic2\", \"Topic3\", \"Topic3\", \"Topic3\", \"Topic3\", \"Topic3\", \"Topic3\", \"Topic3\", \"Topic3\", \"Topic3\", \"Topic3\", \"Topic3\", \"Topic3\", \"Topic3\", \"Topic3\", \"Topic3\", \"Topic3\", \"Topic3\", \"Topic3\", \"Topic3\", \"Topic3\", \"Topic3\", \"Topic3\", \"Topic3\", \"Topic3\", \"Topic3\", \"Topic3\", \"Topic3\", \"Topic3\", \"Topic3\", \"Topic3\", \"Topic3\", \"Topic3\", \"Topic3\", \"Topic3\", \"Topic3\", \"Topic3\", \"Topic3\", \"Topic3\", \"Topic3\", \"Topic3\", \"Topic3\", \"Topic3\", \"Topic3\", \"Topic3\", \"Topic3\", \"Topic3\", \"Topic3\", \"Topic3\", \"Topic3\", \"Topic3\", \"Topic3\", \"Topic3\", \"Topic4\", \"Topic4\", \"Topic4\", \"Topic4\", \"Topic4\", \"Topic4\", \"Topic4\", \"Topic4\", \"Topic4\", \"Topic4\", \"Topic4\", \"Topic4\", \"Topic4\", \"Topic4\", \"Topic4\", \"Topic4\", \"Topic4\", \"Topic4\", \"Topic4\", \"Topic4\", \"Topic4\", \"Topic4\", \"Topic4\", \"Topic4\", \"Topic4\", \"Topic4\", \"Topic4\", \"Topic4\", \"Topic4\", \"Topic4\", \"Topic4\", \"Topic4\", \"Topic4\", \"Topic4\", \"Topic4\", \"Topic4\", \"Topic4\", \"Topic4\", \"Topic4\", \"Topic4\", \"Topic4\", \"Topic4\", \"Topic4\", \"Topic4\", \"Topic4\", \"Topic4\", \"Topic4\", \"Topic4\", \"Topic4\", \"Topic4\", \"Topic4\", \"Topic4\", \"Topic4\", \"Topic4\", \"Topic4\", \"Topic4\", \"Topic4\", \"Topic5\", \"Topic5\", \"Topic5\", \"Topic5\", \"Topic5\", \"Topic5\", \"Topic5\", \"Topic5\", \"Topic5\", \"Topic5\", \"Topic5\", \"Topic5\", \"Topic5\", \"Topic5\", \"Topic5\", \"Topic5\", \"Topic5\", \"Topic5\", \"Topic5\", \"Topic5\", \"Topic5\", \"Topic5\", \"Topic5\", \"Topic5\", \"Topic5\", \"Topic5\", \"Topic5\", \"Topic5\", \"Topic5\", \"Topic5\", \"Topic5\", \"Topic5\", \"Topic5\", \"Topic5\", \"Topic5\", \"Topic5\", \"Topic5\", \"Topic5\", \"Topic5\", \"Topic5\", \"Topic5\", \"Topic5\", \"Topic5\", \"Topic5\", \"Topic5\", \"Topic5\", \"Topic5\", \"Topic5\", \"Topic5\", \"Topic5\", \"Topic5\", \"Topic5\", \"Topic5\", \"Topic5\", \"Topic5\", \"Topic5\", \"Topic5\", \"Topic5\", \"Topic5\", \"Topic5\", \"Topic5\", \"Topic5\", \"Topic5\", \"Topic5\"], \"logprob\": [30.0, 29.0, 28.0, 27.0, 26.0, 25.0, 24.0, 23.0, 22.0, 21.0, 20.0, 19.0, 18.0, 17.0, 16.0, 15.0, 14.0, 13.0, 12.0, 11.0, 10.0, 9.0, 8.0, 7.0, 6.0, 5.0, 4.0, 3.0, 2.0, 1.0, -4.0287, -5.0418, -5.2767, -5.3104, -5.3104, -5.3104, -5.4188, -5.7832, -5.9633, -5.9633, -5.9633, -5.9633, -4.6734, -6.0314, -6.0314, -6.0314, -6.1044, -6.1832, -6.1832, -6.1832, -6.2687, -6.2687, -6.2687, -6.2687, -6.2687, -6.2687, -6.3622, -6.3622, -6.3622, -6.3622, -4.6918, -4.8516, -5.0417, -4.9421, -5.3102, -4.5702, -5.6789, -5.7297, -5.6306, -5.8996, -5.4979, -5.5857, -5.5404, -5.8396, -5.7844, -5.1569, -5.6426, -5.3927, -5.6787, -5.7828, -5.7832, -5.7831, -5.7213, -5.9395, -5.9395, -5.9395, -5.9395, -5.9395, -5.9395, -5.9395, -5.9395, -5.9395, -5.94, -5.1479, -6.0696, -6.2191, -6.395, -6.395, -6.395, -6.3951, -6.6086, -6.6086, -6.6086, -6.6086, -6.6086, -6.6086, -6.6086, -6.6086, -6.6087, -6.6087, -6.6087, -6.6088, -5.7213, -5.8245, -6.0695, -5.4166, -6.0696, -5.9394, -5.9394, -6.2195, -6.0696, -5.9539, -5.6278, -6.0695, -5.4634, -5.8245, -5.1129, -4.8604, -5.8245, -5.9395, -5.546, -5.5558, -5.8243, -5.3982, -5.5421, -5.6198, -5.7209, -5.4486, -5.6278, -5.7351, -5.7556, -5.772, -5.824, -5.8927, -5.9392, -5.9394, -5.9394, -4.9473, -4.5449, -5.5253, -5.5253, -5.6285, -5.6357, -5.7436, -5.8736, -5.8738, -6.0231, -6.0232, -6.1991, -6.1991, -6.1991, -6.1991, -6.1991, -6.1991, -6.1998, -6.4126, -6.4126, -6.4126, -6.4126, -6.4126, -6.4126, -6.4126, -6.4126, -6.4127, -6.4131, -6.4139, -6.4237, -6.023, -6.0231, -6.0485, -6.1986, -5.5081, -5.1867, -5.8845, -6.199, -5.7432, -5.5917, -5.8261, -6.0229, -5.5749, -6.0231, -5.8054, -5.8734, -5.7342, -5.8223, -6.0229, -6.0229, -6.0007, -6.0229, -5.5251, -5.6552, -5.8047, -5.8047, -5.8047, -5.9806, -6.1942, -6.1942, -6.4662, -6.4662, -6.4662, -6.4662, -6.4662, -6.4662, -6.4662, -6.4662, -6.4662, -6.4662, -6.4691, -5.8047, -5.8046, -5.9806, -6.8409, -6.8409, -6.8409, -6.8409, -6.8409, -6.8409, -6.8409, -6.8409, -5.3067, -5.8047, -5.6554, -6.194, -6.1942, -5.5247, -6.5659, -5.9806, -5.9805, -5.4099, -5.4098, -5.8045, -5.5248, -5.213, -5.1629, -5.8044, -6.1939, -5.41, -6.194, -5.8047, -5.7231, -5.6551, -5.6552, -5.9803, -5.9805, -5.98, -5.9804, -6.0525, -6.3243, -6.3243, -5.8389, -6.699, -6.699, -6.699, -6.699, -6.699, -6.699, -6.699, -6.699, -6.699, -6.6991, -6.6991, -6.6991, -6.6991, -6.6991, -6.6991, -6.6991, -6.6991, -6.6991, -6.6991, -6.6991, -6.6991, -6.6991, -6.6991, -6.6991, -6.6992, -6.6992, -6.0523, -6.0524, -6.3242, -6.3243, -5.1646, -6.0522, -5.6628, -5.3831, -6.3242, -5.8387, -6.0524, -6.3235, -5.5132, -5.8388, -6.3243, -5.5131, -5.6625, -5.3832, -6.3239, -6.3243, -6.3242, -6.0523, -5.6629, -6.3241, -5.8391, -6.0523, -6.0517, -6.0523, -6.0519, -6.0524, -6.3217, -6.3226, -6.323, -6.3234], \"loglift\": [30.0, 29.0, 28.0, 27.0, 26.0, 25.0, 24.0, 23.0, 22.0, 21.0, 20.0, 19.0, 18.0, 17.0, 16.0, 15.0, 14.0, 13.0, 12.0, 11.0, 10.0, 9.0, 8.0, 7.0, 6.0, 5.0, 4.0, 3.0, 2.0, 1.0, 0.7888, 0.7855, 0.7815, 0.7808, 0.7808, 0.7808, 0.7785, 0.7688, 0.7626, 0.7626, 0.7626, 0.7626, 0.7614, 0.7599, 0.7599, 0.7599, 0.7569, 0.7533, 0.7533, 0.7533, 0.7492, 0.7492, 0.7492, 0.7492, 0.7492, 0.7492, 0.7442, 0.7442, 0.7442, 0.7442, 0.7411, 0.7406, 0.7425, 0.7351, 0.7301, 0.7055, 0.7347, 0.7283, 0.7101, 0.719, 0.6834, 0.6696, 0.6107, 0.6754, 0.6534, 0.3868, 0.5564, 0.3278, 0.504, 0.5863, 0.5497, 0.5464, 1.5305, 1.5143, 1.5143, 1.5143, 1.5142, 1.5142, 1.5142, 1.5142, 1.5142, 1.5142, 1.5138, 1.5074, 1.5029, 1.4881, 1.468, 1.468, 1.468, 1.468, 1.4391, 1.4391, 1.4391, 1.4391, 1.4391, 1.4391, 1.4391, 1.4391, 1.439, 1.439, 1.439, 1.4389, 1.4287, 1.4118, 1.3927, 1.302, 1.3653, 1.3433, 1.3131, 1.3625, 1.3314, 1.2886, 1.2053, 1.2789, 1.0944, 1.2057, 0.8835, 0.7296, 1.1527, 1.2111, 0.9609, 0.9361, 1.1185, 0.5173, 0.5532, 0.6787, 0.8273, 0.2719, 0.6314, 0.501, 0.5365, 0.6042, 0.8773, 0.2249, 1.0306, 0.4658, 0.9297, 1.8293, 1.8, 1.7977, 1.7977, 1.7897, 1.782, 1.7799, 1.7676, 1.7674, 1.7514, 1.7514, 1.7295, 1.7295, 1.7295, 1.7295, 1.7295, 1.7295, 1.7286, 1.698, 1.698, 1.698, 1.698, 1.698, 1.698, 1.698, 1.698, 1.6979, 1.6974, 1.6966, 1.6863, 1.6321, 1.4431, 1.4329, 1.5392, 1.008, 0.7288, 1.2674, 1.4815, 0.9354, 0.7005, 0.9002, 1.1618, 0.3621, 1.1433, 0.5708, 0.4582, -0.1442, 0.1741, 0.8909, 0.8158, 0.2354, 0.3168, 2.1018, 2.0877, 2.0693, 2.0693, 2.0693, 2.0445, 2.0089, 2.0089, 1.9536, 1.9536, 1.9536, 1.9536, 1.9536, 1.9536, 1.9536, 1.9536, 1.9536, 1.9536, 1.9497, 1.923, 1.9121, 1.8762, 1.8559, 1.8559, 1.8559, 1.8559, 1.8559, 1.8559, 1.8559, 1.8559, 1.8265, 1.7761, 1.7519, 1.7966, 1.7964, 1.6952, 1.8234, 1.7215, 1.7108, 1.292, 1.2406, 1.4531, 1.2259, 0.8824, 0.7741, 1.2901, 1.6765, 0.5864, 1.5945, 0.8733, 0.6085, 0.2603, -0.1115, 1.0241, 0.9471, 0.5747, 0.4667, 2.2297, 2.1689, 2.1689, 2.0742, 2.0621, 2.0621, 2.0621, 2.0621, 2.0621, 2.0621, 2.0621, 2.0621, 2.0621, 2.0621, 2.0621, 2.0621, 2.0621, 2.0621, 2.0621, 2.0621, 2.0621, 2.062, 2.062, 2.062, 2.062, 2.062, 2.062, 2.062, 2.0619, 2.0619, 2.0386, 1.8466, 1.9123, 1.894, 1.3569, 1.6987, 1.3144, 0.853, 1.7137, 1.1915, 1.4049, 1.682, 0.779, 1.0757, 1.6144, 0.6045, 0.7427, 0.2067, 1.5323, 1.5318, 1.5262, 0.9633, 0.2526, 1.4216, 0.5372, 0.8881, 0.7722, 0.718, 0.5531, 0.0429, 1.185, 0.3561, 1.3064, 0.9932]}, \"token.table\": {\"Topic\": [2, 4, 3, 3, 5, 1, 2, 3, 4, 5, 2, 3, 4, 5, 1, 3, 1, 1, 2, 3, 1, 2, 3, 4, 5, 1, 3, 5, 1, 1, 3, 4, 1, 3, 1, 1, 3, 1, 2, 3, 4, 5, 2, 5, 5, 1, 2, 3, 2, 3, 4, 5, 1, 2, 3, 4, 5, 3, 4, 5, 2, 5, 2, 3, 4, 2, 4, 3, 2, 2, 3, 5, 2, 5, 2, 1, 2, 3, 5, 2, 3, 5, 2, 3, 3, 4, 5, 2, 3, 5, 2, 1, 2, 3, 4, 5, 1, 1, 2, 3, 4, 5, 5, 4, 2, 1, 3, 2, 3, 4, 1, 2, 2, 2, 3, 4, 5, 4, 1, 2, 3, 4, 5, 1, 5, 2, 3, 4, 5, 1, 2, 4, 1, 2, 3, 1, 3, 4, 5, 2, 4, 5, 1, 1, 2, 3, 4, 1, 2, 3, 4, 2, 5, 1, 2, 4, 2, 2, 1, 2, 3, 4, 5, 4, 2, 5, 1, 2, 5, 1, 2, 3, 4, 5, 2, 4, 1, 2, 4, 2, 3, 4, 5, 2, 3, 4, 5, 1, 2, 2, 5, 1, 2, 5, 5, 2, 3, 4, 5, 1, 2, 3, 4, 5, 2, 3, 5, 4, 1, 4, 2, 4, 4, 5, 5, 1, 2, 3, 4, 5, 1, 2, 4, 5, 4, 5, 4, 1, 2, 3, 1, 2, 3, 5, 4, 5, 1, 2, 3, 1, 4, 1, 3, 3, 3, 4, 5, 1, 2, 4, 4, 5, 1, 2, 3, 3, 1, 2, 3, 4, 5, 1, 2, 3, 4, 5, 3, 5, 3, 1, 1, 2, 3, 4, 5, 1, 2, 3, 4, 5, 1, 2, 3, 1, 2, 4, 2, 4, 5, 2, 5, 4, 1, 2, 3, 4, 1, 2, 3, 4, 5, 5, 1, 2, 3, 4, 5, 2, 4, 4, 1, 2, 3, 5, 3, 1, 2, 2, 1, 2, 3, 4, 5, 2, 2, 5, 3, 4, 3, 1, 2, 3, 4, 5, 1, 2, 3, 4, 5, 1, 2, 4, 5, 2, 1, 1, 3, 1, 3, 4, 3, 1, 2, 3, 4, 5, 3, 5, 1, 2, 4, 4, 1, 2, 3, 4, 1, 2, 3, 4, 5, 1, 2, 2, 3, 1, 2, 3, 4, 5, 5, 1, 2, 3, 5, 1, 2, 3, 3, 2, 3, 1, 2, 3, 4, 5, 4, 4, 5, 1, 2, 3, 5, 1, 4, 5, 1, 2, 5, 2, 1, 2, 3, 4, 5, 1, 5, 1, 1, 5, 3, 2, 3, 4, 5, 3, 3, 1, 4, 2, 1, 3, 2, 1, 5, 2, 3, 4, 5, 4, 1, 3, 4, 1, 1, 2, 1, 5, 1, 1, 2, 3, 4, 5, 2, 1, 3, 5, 1, 2, 5, 3, 1, 4, 5, 2, 5, 2, 2, 2, 3, 4, 3, 2, 4, 1, 2, 3, 1, 1, 2, 3, 5, 3, 5, 1, 2, 3, 4, 5, 1, 1, 2, 3, 4, 5, 1, 2, 3, 4, 5, 1, 2, 3, 4, 5, 1, 4, 5, 2, 4, 4, 1, 1, 4, 2, 4, 1, 2, 5, 1, 1, 2, 1, 3, 3, 1, 2, 3, 4, 5, 3, 1, 2, 3, 4, 5, 4, 2, 5, 5, 3, 4, 1, 2, 3, 4, 5, 1, 2, 3, 4, 5, 2, 3, 4, 5, 3], \"Freq\": [0.9920049618853493, 0.7975237088642209, 0.8781307765855861, 0.878130729903899, 0.560989187478829, 0.6516645642782187, 0.11235595935831356, 0.08988476748665086, 0.08988476748665086, 0.04494238374332543, 0.2042782748089579, 0.2042782748089579, 0.2042782748089579, 0.4085565496179158, 0.9713559025615293, 0.8366742337430361, 0.9854983399797264, 0.30975450549331407, 0.6195090109866281, 0.06195090109866281, 0.09353994042505703, 0.5612396425503422, 0.18707988085011407, 0.09353994042505703, 0.09353994042505703, 0.4554348610597971, 0.4554348610597971, 0.11385871526494927, 0.9713558696322024, 0.9936989145849285, 0.8781314965297626, 0.7975286905627466, 0.20162131268021627, 0.8064852507208651, 0.9651474283840562, 0.9117704631815235, 0.053633556657736677, 0.28606589750164313, 0.5006153206278755, 0.14303294875082156, 0.07151647437541078, 0.07151647437541078, 0.9106024420121224, 0.5609828164816589, 0.5609811666236836, 0.9530929960264001, 0.05606429388390589, 0.9152097957153364, 0.23192247272869182, 0.46384494545738364, 0.23192247272869182, 0.11596123636434591, 0.07513635849445466, 0.30054543397781863, 0.07513635849445466, 0.3756817924722733, 0.07513635849445466, 0.24946517465082668, 0.49893034930165336, 0.24946517465082668, 0.6955252171193363, 0.29808223590828703, 0.1945312484078245, 0.1945312484078245, 0.5835937452234734, 0.854507194537359, 0.8061729695936622, 0.8781291271090086, 0.9106023854073813, 0.767402209987758, 0.127900368331293, 0.127900368331293, 0.659640135021779, 0.2827029150093338, 0.9106025151994718, 0.08457904303563918, 0.5074742582138351, 0.25373712910691754, 0.16915808607127836, 0.22565301858802325, 0.4513060371760465, 0.4513060371760465, 0.8878286546400351, 0.06829451189538732, 0.2302064100647887, 0.6906192301943661, 0.2302064100647887, 0.9141005995208166, 0.9759413668292141, 0.5609827206484554, 0.9105833511143093, 0.09682573584366183, 0.2904772075309855, 0.2904772075309855, 0.2904772075309855, 0.5609907810488219, 0.9527987215834163, 0.8208439123612364, 0.05130274452257728, 0.10260548904515455, 0.05130274452257728, 0.05130274452257728, 0.858313376798438, 0.797525457572473, 0.9141009171938616, 0.30732739672924086, 0.6146547934584817, 0.7653106811847435, 0.1530621362369487, 0.7975269523469484, 0.5974646659928866, 0.3676705636879302, 0.8245912789708637, 0.5298031909165593, 0.10596063818331185, 0.4238425527332474, 0.5609842116999715, 0.5260465627092145, 0.11776025954509799, 0.529921167952941, 0.23552051909019597, 0.05888012977254899, 0.05888012977254899, 0.6096739974001789, 0.40644933160011926, 0.12012120636418247, 0.24024241272836494, 0.6006060318209123, 0.5609810440157028, 0.12210412766674238, 0.8547288936671966, 0.5260457537391834, 0.8698456203375161, 0.09156269687763327, 0.045781348438816635, 0.9527989813021156, 0.761524082942753, 0.19038102073568824, 0.19038102073568824, 0.2721827655266396, 0.2721827655266396, 0.5443655310532792, 0.995240936313996, 0.9389526422862872, 0.9777846369471729, 0.22710549180679454, 0.6813164754203835, 0.12285706673697454, 0.7371424004218472, 0.12285706673697454, 0.7975278830746407, 0.32600101216300115, 0.6520020243260023, 0.13659447990339912, 0.6829723995169956, 0.13659447990339912, 0.8246044959658556, 0.8245902361980831, 0.23769915069604639, 0.17827436302203478, 0.41597351371808117, 0.11884957534802319, 0.059424787674011596, 0.7736096263588043, 0.24023521558534425, 0.7207056467560328, 0.9454305124998884, 0.020115542819146563, 0.040231085638293126, 0.30680415128721844, 0.49088664205954946, 0.06136083025744368, 0.12272166051488737, 0.06136083025744368, 0.259615484938021, 0.778846454814063, 0.21209988114383896, 0.21209988114383896, 0.6362996434315169, 0.6373329852489348, 0.0910475693212764, 0.2731427079638292, 0.0910475693212764, 0.14488233611864954, 0.14488233611864954, 0.5795293444745981, 0.14488233611864954, 0.9432100290375155, 0.05716424418409185, 0.9106022757237215, 0.5609808583866062, 0.3617900162761418, 0.3617900162761418, 0.3617900162761418, 0.8583157766372379, 0.26900828910472274, 0.35867771880629695, 0.26900828910472274, 0.08966942970157424, 0.19506354038209883, 0.3511143726877779, 0.07802541615283953, 0.27308895653493837, 0.07802541615283953, 0.7276278739733548, 0.21828836219200645, 0.5609798480614552, 0.5260447377381732, 0.9891998714272243, 0.010870328257442025, 0.34464072081715585, 0.6892814416343117, 0.28700584211947155, 0.5740116842389431, 0.6949944323110528, 0.7915955406966311, 0.09894944258707888, 0.04947472129353944, 0.09894944258707888, 0.5609819736152019, 0.12408764245425581, 0.7445258547255349, 0.12408764245425581, 0.5609853850439654, 0.797527059618978, 0.5609860464395474, 0.7975253803250851, 0.9674168753794474, 0.02015451823707182, 0.02015451823707182, 0.8791490369071525, 0.05494681480669703, 0.05494681480669703, 0.05494681480669703, 0.7975242099272148, 0.5609799000470249, 0.6973619694175179, 0.09962313848821684, 0.19924627697643368, 0.9651465999658844, 0.5260458064615119, 0.05007146464358193, 0.9513578282280566, 0.9253073245224357, 0.11013639128205133, 0.660818347692308, 0.22027278256410265, 0.22415174626282175, 0.6724552387884652, 0.11207587313141087, 0.9241989629155235, 0.5609888261156263, 0.11201443707498011, 0.8961154965998409, 0.9152379107262262, 0.8781303523656562, 0.07067490317719238, 0.4947243222403466, 0.17668725794298096, 0.21202470953157715, 0.07067490317719238, 0.19485108735697004, 0.3897021747139401, 0.25980144980929337, 0.06495036245232334, 0.12990072490464669, 0.33199836990054665, 0.6639967398010933, 0.8787904961228952, 0.9651468164403143, 0.06796410295094082, 0.3398205147547041, 0.20389230885282247, 0.40778461770564495, 0.06796410295094082, 0.2588922542462995, 0.42364187058485375, 0.14121395686161792, 0.07060697843080896, 0.09414263790774528, 0.7789862298493037, 0.1298310383082173, 0.08655402553881153, 0.9527982399363853, 0.1974205702482812, 0.7896822809931248, 0.23687788378914496, 0.23687788378914496, 0.4737557675782899, 0.6092014795554886, 0.3046007397777443, 0.9632288949784723, 0.9111064653760603, 0.0343813760519268, 0.0343813760519268, 0.0171906880259634, 0.1616926306459114, 0.40423157661477854, 0.1616926306459114, 0.0808463153229557, 0.1616926306459114, 0.5609897142853995, 0.7238072627333976, 0.17030759123138767, 0.04257689780784692, 0.04257689780784692, 0.04257689780784692, 0.38488953278800775, 0.5773342991820116, 0.8105629629361155, 0.13231925601851177, 0.5292770240740471, 0.13231925601851177, 0.26463851203702354, 0.8781316095437209, 0.8249923721249361, 0.16499847442498722, 0.8245910266836266, 0.08204654324197827, 0.3281861729679131, 0.3281861729679131, 0.08204654324197827, 0.16409308648395654, 0.9106022255532227, 0.7198069628620293, 0.14396139257240587, 0.199599300812594, 0.798397203250376, 0.932113566089121, 0.35902273683198804, 0.23934849122132537, 0.11967424561066269, 0.07978283040710846, 0.15956566081421691, 0.4940846130404813, 0.06176057663006016, 0.24704230652024065, 0.1852817298901805, 0.06176057663006016, 0.3479951016968368, 0.5219926525452552, 0.11599836723227894, 0.05799918361613947, 0.914100138468277, 0.9952403031921357, 0.9651472127598989, 0.9759436660752462, 0.9245551548956524, 0.05136417527198069, 0.025682087635990346, 0.9759436075715443, 0.45970333311610473, 0.1532344443720349, 0.1532344443720349, 0.07661722218601745, 0.1532344443720349, 0.8781308064060933, 0.5609804461439862, 0.9231175304748362, 0.036924701218993446, 0.036924701218993446, 0.9242013707259313, 0.4422031259188218, 0.08844062518376437, 0.3537625007350575, 0.08844062518376437, 0.5546471788730459, 0.11092943577460919, 0.11092943577460919, 0.1663941536619138, 0.055464717887304595, 0.32635193393160056, 0.6527038678632011, 0.8245911055740411, 0.8783469031005748, 0.24705221915845896, 0.19764177532676716, 0.24705221915845896, 0.19764177532676716, 0.09882088766338358, 0.5609815026548449, 0.4780141234682041, 0.38241129877456326, 0.04780141234682041, 0.04780141234682041, 0.15602027167103824, 0.15602027167103824, 0.624081086684153, 0.9759457188885275, 0.8626670431333919, 0.17253340862667838, 0.07155267548712527, 0.28621070194850107, 0.2146580264613758, 0.4293160529227516, 0.07155267548712527, 0.5260458036416418, 0.9632279330282295, 0.5609886899131126, 0.09791356803504095, 0.48956784017520477, 0.1958271360700819, 0.1958271360700819, 0.26351387886080424, 0.26351387886080424, 0.5270277577216085, 0.7889095339573724, 0.14792053761700732, 0.049306845872335775, 0.9106022825375729, 0.21997336088849256, 0.2932978145179901, 0.3666222681474876, 0.07332445362949752, 0.07332445362949752, 0.9230957241550534, 0.5609870363449769, 0.9814700553166495, 0.9713543594788714, 0.5609816200812706, 0.8781320116240842, 0.4194838256863351, 0.4194838256863351, 0.06991397094772252, 0.13982794189544503, 0.8776090877131348, 0.8780707042002025, 0.9814684701251395, 0.9242012343934921, 0.8245917174185566, 0.9216651812170833, 0.06583322722979167, 0.9106023015799384, 0.492970082775449, 0.492970082775449, 0.16002534377026967, 0.32005068754053934, 0.32005068754053934, 0.32005068754053934, 0.526047554905137, 0.9435534378909042, 0.047177671894545206, 0.023588835947272603, 0.9847396029131644, 0.14893644964267733, 0.7446822482133867, 0.9814697179807731, 0.560986209163496, 0.9952405499588717, 0.06986517726043541, 0.3493258863021771, 0.27946070904174164, 0.27946070904174164, 0.06986517726043541, 0.82459053793152, 0.8974705859900672, 0.049859476999448184, 0.049859476999448184, 0.8903713369831276, 0.11871617826441702, 0.5609865818829701, 0.9321146684604775, 0.22696978999868178, 0.22696978999868178, 0.45393957999736356, 0.824591814443993, 0.560984457615011, 0.9106024575056836, 0.824590718990649, 0.8245897080627422, 0.742466319390386, 0.1856165798475965, 0.9759018124410198, 0.25962138230256054, 0.7788641469076816, 0.892820803322984, 0.04251527634871352, 0.04251527634871352, 0.9814691176137176, 0.11222522029427054, 0.22445044058854108, 0.5611261014713527, 0.11222522029427054, 0.8780633467247094, 0.5609829620888797, 0.6168231145437035, 0.2681839628450885, 0.0536367925690177, 0.0536367925690177, 0.02681839628450885, 0.9814684618236023, 0.2659272831061082, 0.3191127397273298, 0.10637091324244327, 0.1595563698636649, 0.1595563698636649, 0.05974394906275104, 0.29871974531375517, 0.1792318471882531, 0.11948789812550208, 0.3584636943765062, 0.3996088950712523, 0.09990222376781308, 0.23310518879156386, 0.23310518879156386, 0.06660148251187539, 0.22693816256264118, 0.22693816256264118, 0.45387632512528236, 0.9141013724306999, 0.7968007415003253, 0.9022668358194916, 0.9774060036881909, 0.9814698069680916, 0.7975259229489677, 0.8245925915734852, 0.7975298071487531, 0.4541162605981755, 0.2724697563589053, 0.1816465042392702, 0.93895183820939, 0.9389507668168048, 0.9106020068208917, 0.9527985586132349, 0.9763520340572072, 0.9759455331581189, 0.1770153877928659, 0.1770153877928659, 0.2655230816892989, 0.08850769389643295, 0.2655230816892989, 0.9759454431990556, 0.13473415323186622, 0.31437969087435447, 0.17964553764248828, 0.13473415323186622, 0.17964553764248828, 0.5260447300200013, 0.82459130713929, 0.5609828738841588, 0.560984470028709, 0.878130057860548, 0.5260465460565925, 0.15500632988329882, 0.36168143639436395, 0.2583438831388314, 0.051668776627766276, 0.15500632988329882, 0.0977723057339485, 0.32590768577982837, 0.32590768577982837, 0.13036307431193134, 0.0977723057339485, 0.3325146267880268, 0.3325146267880268, 0.14250626862344007, 0.19000835816458675, 0.8366728372890652], \"Term\": [\"adirondack\", \"admitting\", \"agenda\", \"agent\", \"alot\", \"also\", \"also\", \"also\", \"also\", \"also\", \"always\", \"always\", \"always\", \"always\", \"amiga\", \"andrew\", \"animation\", \"another\", \"another\", \"another\", \"anyone\", \"anyone\", \"anyone\", \"anyone\", \"anyone\", \"application\", \"application\", \"application\", \"archie\", \"archive\", \"assembly\", \"atmanager\", \"attack\", \"attack\", \"author\", \"available\", \"available\", \"back\", \"back\", \"back\", \"back\", \"back\", \"baltimore\", \"barry\", \"basalt\", \"based\", \"based\", \"belief\", \"believe\", \"believe\", \"believe\", \"believe\", \"better\", \"better\", \"better\", \"better\", \"better\", \"bible\", \"bible\", \"bible\", \"bike\", \"bike\", \"bill\", \"bill\", \"bill\", \"binghamton\", \"bird\", \"border\", \"breton\", \"cable\", \"cable\", \"cable\", \"cache\", \"cache\", \"cape\", \"card\", \"card\", \"card\", \"card\", \"child\", \"child\", \"child\", \"chip\", \"chip\", \"christ\", \"christ\", \"christ\", \"cipher\", \"cjackson\", \"clark\", \"clipper\", \"come\", \"come\", \"come\", \"come\", \"comic\", \"comp\", \"computer\", \"computer\", \"computer\", \"computer\", \"computer\", \"concentration\", \"conception\", \"conductor\", \"conference\", \"conference\", \"connector\", \"connector\", \"consecutive\", \"contact\", \"contact\", \"contest\", \"control\", \"control\", \"control\", \"conventional\", \"coreldraw\", \"could\", \"could\", \"could\", \"could\", \"could\", \"course\", \"course\", \"creation\", \"creation\", \"creation\", \"critical\", \"current\", \"current\", \"damon\", \"data\", \"data\", \"data\", \"database\", \"death\", \"death\", \"death\", \"decided\", \"decided\", \"decided\", \"demo\", \"directory\", \"discussion\", \"doctrine\", \"doctrine\", \"drive\", \"drive\", \"drive\", \"drop\", \"earth\", \"earth\", \"effect\", \"effect\", \"effect\", \"encrypted\", \"encryption\", \"even\", \"even\", \"even\", \"even\", \"even\", \"faith\", \"father\", \"father\", \"file\", \"file\", \"file\", \"find\", \"find\", \"find\", \"find\", \"find\", \"florida\", \"florida\", \"follow\", \"follow\", \"follow\", \"force\", \"force\", \"force\", \"force\", \"forget\", \"forget\", \"forget\", \"forget\", \"format\", \"format\", \"fredericton\", \"fusion\", \"game\", \"game\", \"game\", \"giant\", \"going\", \"going\", \"going\", \"going\", \"good\", \"good\", \"good\", \"good\", \"good\", \"government\", \"government\", \"grading\", \"grand\", \"graphic\", \"graphic\", \"guess\", \"guess\", \"heart\", \"heart\", \"heaven\", \"help\", \"help\", \"help\", \"help\", \"hitter\", \"hole\", \"hole\", \"hole\", \"hope\", \"huizenga\", \"icon\", \"ignorance\", \"image\", \"image\", \"image\", \"imagine\", \"imagine\", \"imagine\", \"imagine\", \"immoral\", \"increase\", \"info\", \"info\", \"info\", \"inria\", \"intelligence\", \"israel\", \"israel\", \"israeli\", \"jesus\", \"jesus\", \"jesus\", \"john\", \"john\", \"john\", \"kendigianism\", \"kepley\", \"key\", \"key\", \"keyboard\", \"killed\", \"know\", \"know\", \"know\", \"know\", \"know\", \"last\", \"last\", \"last\", \"last\", \"last\", \"le\", \"le\", \"lebanese\", \"library\", \"life\", \"life\", \"life\", \"life\", \"life\", \"like\", \"like\", \"like\", \"like\", \"like\", \"line\", \"line\", \"line\", \"listing\", \"live\", \"live\", \"love\", \"love\", \"love\", \"lunar\", \"lunar\", \"lyric\", \"mail\", \"mail\", \"mail\", \"mail\", \"make\", \"make\", \"make\", \"make\", \"make\", \"manta\", \"many\", \"many\", \"many\", \"many\", \"many\", \"mary\", \"mary\", \"master\", \"maybe\", \"maybe\", \"maybe\", \"maybe\", \"medium\", \"message\", \"message\", \"metal\", \"might\", \"might\", \"might\", \"might\", \"might\", \"moncton\", \"moon\", \"moon\", \"moral\", \"moral\", \"mormon\", \"much\", \"much\", \"much\", \"much\", \"much\", \"name\", \"name\", \"name\", \"name\", \"name\", \"need\", \"need\", \"need\", \"need\", \"neon\", \"news\", \"nfotis\", \"northern\", \"object\", \"object\", \"object\", \"occupied\", \"others\", \"others\", \"others\", \"others\", \"others\", \"overturn\", \"pa\", \"package\", \"package\", \"package\", \"panther\", \"paper\", \"paper\", \"paper\", \"paper\", \"part\", \"part\", \"part\", \"part\", \"part\", \"patch\", \"patch\", \"payload\", \"peace\", \"people\", \"people\", \"people\", \"people\", \"people\", \"perspective\", \"phone\", \"phone\", \"phone\", \"phone\", \"point\", \"point\", \"point\", \"policy\", \"possibility\", \"possibility\", \"power\", \"power\", \"power\", \"power\", \"power\", \"premise\", \"priest\", \"prizm\", \"problem\", \"problem\", \"problem\", \"problem\", \"product\", \"product\", \"product\", \"program\", \"program\", \"program\", \"providence\", \"question\", \"question\", \"question\", \"question\", \"question\", \"radiance\", \"radio\", \"radiosity\", \"rayshade\", \"reactor\", \"realize\", \"really\", \"really\", \"really\", \"really\", \"receiving\", \"regular\", \"rendering\", \"repeat\", \"resistor\", \"resource\", \"resource\", \"rochester\", \"salt\", \"salt\", \"say\", \"say\", \"say\", \"say\", \"scoring\", \"send\", \"send\", \"send\", \"server\", \"session\", \"session\", \"shareware\", \"shove\", \"siggraph\", \"since\", \"since\", \"since\", \"since\", \"since\", \"single\", \"site\", \"site\", \"site\", \"software\", \"software\", \"sold\", \"soldier\", \"sometimes\", \"sometimes\", \"sometimes\", \"spare\", \"speedup\", \"springfield\", \"starter\", \"stolen\", \"story\", \"story\", \"street\", \"stress\", \"stress\", \"stuff\", \"stuff\", \"stuff\", \"subscription\", \"sure\", \"sure\", \"sure\", \"sure\", \"suspect\", \"swing\", \"system\", \"system\", \"system\", \"system\", \"system\", \"texture\", \"thing\", \"thing\", \"thing\", \"thing\", \"thing\", \"think\", \"think\", \"think\", \"think\", \"think\", \"time\", \"time\", \"time\", \"time\", \"time\", \"today\", \"today\", \"today\", \"tonne\", \"took\", \"torrey\", \"tracer\", \"tracing\", \"tradition\", \"transmit\", \"turmeric\", \"u\", \"u\", \"u\", \"unix\", \"utah\", \"utica\", \"various\", \"village\", \"vote\", \"want\", \"want\", \"want\", \"want\", \"want\", \"weapon\", \"well\", \"well\", \"well\", \"well\", \"well\", \"white\", \"willing\", \"wingo\", \"wisdom\", \"withdraw\", \"wonder\", \"work\", \"work\", \"work\", \"work\", \"work\", \"would\", \"would\", \"would\", \"would\", \"would\", \"year\", \"year\", \"year\", \"year\", \"zone\"]}, \"R\": 30, \"lambda.step\": 0.01, \"plot.opts\": {\"xlab\": \"PC1\", \"ylab\": \"PC2\"}, \"topic.order\": [1, 5, 2, 4, 3]};\n",
              "\n",
              "function LDAvis_load_lib(url, callback){\n",
              "  var s = document.createElement('script');\n",
              "  s.src = url;\n",
              "  s.async = true;\n",
              "  s.onreadystatechange = s.onload = callback;\n",
              "  s.onerror = function(){console.warn(\"failed to load library \" + url);};\n",
              "  document.getElementsByTagName(\"head\")[0].appendChild(s);\n",
              "}\n",
              "\n",
              "if(typeof(LDAvis) !== \"undefined\"){\n",
              "   // already loaded: just create the visualization\n",
              "   !function(LDAvis){\n",
              "       new LDAvis(\"#\" + \"ldavis_el7621389786830249124938473021\", ldavis_el7621389786830249124938473021_data);\n",
              "   }(LDAvis);\n",
              "}else if(typeof define === \"function\" && define.amd){\n",
              "   // require.js is available: use it to load d3/LDAvis\n",
              "   require.config({paths: {d3: \"https://d3js.org/d3.v5\"}});\n",
              "   require([\"d3\"], function(d3){\n",
              "      window.d3 = d3;\n",
              "      LDAvis_load_lib(\"https://cdn.jsdelivr.net/gh/bmabey/pyLDAvis@3.4.0/pyLDAvis/js/ldavis.v3.0.0.js\", function(){\n",
              "        new LDAvis(\"#\" + \"ldavis_el7621389786830249124938473021\", ldavis_el7621389786830249124938473021_data);\n",
              "      });\n",
              "    });\n",
              "}else{\n",
              "    // require.js not available: dynamically load d3 & LDAvis\n",
              "    LDAvis_load_lib(\"https://d3js.org/d3.v5.js\", function(){\n",
              "         LDAvis_load_lib(\"https://cdn.jsdelivr.net/gh/bmabey/pyLDAvis@3.4.0/pyLDAvis/js/ldavis.v3.0.0.js\", function(){\n",
              "                 new LDAvis(\"#\" + \"ldavis_el7621389786830249124938473021\", ldavis_el7621389786830249124938473021_data);\n",
              "            })\n",
              "         });\n",
              "}\n",
              "</script>"
            ]
          },
          "metadata": {},
          "execution_count": 22
        }
      ]
    },
    {
      "cell_type": "markdown",
      "source": [
        "# Word Cloud Visualization"
      ],
      "metadata": {
        "id": "Te9vty-9YeuJ"
      }
    },
    {
      "cell_type": "code",
      "source": [
        "from matplotlib import pyplot as plt\n",
        "from wordcloud import WordCloud, STOPWORDS\n",
        "import matplotlib.colors as mcolors\n",
        "\n",
        "cols = [color for name, color in mcolors.TABLEAU_COLORS.items()]  # more colors: 'mcolors.XKCD_COLORS'\n",
        "\n",
        "cloud = WordCloud(stopwords=stopwords,\n",
        "                  background_color='white',\n",
        "                  width=2500,\n",
        "                  height=1800,\n",
        "                  max_words=10,\n",
        "                  colormap='tab10',\n",
        "                  color_func=lambda *args, **kwargs: cols[i],\n",
        "                  prefer_horizontal=1.0)\n",
        "\n",
        "topics = ldamodel.show_topics(formatted=False)\n",
        "\n",
        "fig, axes = plt.subplots(2, 2, figsize=(10,10), sharex=True, sharey=True)\n",
        "\n",
        "for i, ax in enumerate(axes.flatten()):\n",
        "    fig.add_subplot(ax)\n",
        "    topic_words = dict(topics[i][1])\n",
        "    cloud.generate_from_frequencies(topic_words, max_font_size=300)\n",
        "    plt.gca().imshow(cloud)\n",
        "    plt.gca().set_title('Topic ' + str(i), fontdict=dict(size=16))\n",
        "    plt.gca().axis('off')\n",
        "\n",
        "\n",
        "plt.subplots_adjust(wspace=0, hspace=0)\n",
        "plt.axis('off')\n",
        "plt.margins(x=0, y=0)\n",
        "plt.tight_layout()\n",
        "fig.savefig('word_cloud.png')\n",
        "plt.show()"
      ],
      "metadata": {
        "colab": {
          "base_uri": "https://localhost:8080/",
          "height": 868
        },
        "id": "otafMkAyVpw7",
        "outputId": "83d294d8-1c8f-4030-b0db-c8f5963c3ef4"
      },
      "execution_count": 23,
      "outputs": [
        {
          "output_type": "stream",
          "name": "stderr",
          "text": [
            "/usr/local/lib/python3.10/dist-packages/ipykernel/ipkernel.py:283: DeprecationWarning: `should_run_async` will not call `transform_cell` automatically in the future. Please pass the result to `transformed_cell` argument and any exception that happen during thetransform in `preprocessing_exc_tuple` in IPython 7.17 and above.\n",
            "  and should_run_async(code)\n"
          ]
        },
        {
          "output_type": "display_data",
          "data": {
            "text/plain": [
              "<Figure size 1000x1000 with 4 Axes>"
            ],
            "image/png": "[encoded data removed]"
          },
          "metadata": {}
        }
      ]
    }
  ]
}